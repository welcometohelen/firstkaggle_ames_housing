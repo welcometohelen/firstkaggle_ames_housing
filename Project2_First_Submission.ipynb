{
 "cells": [
  {
   "cell_type": "code",
   "execution_count": 1,
   "metadata": {},
   "outputs": [],
   "source": [
    "import numpy as np\n",
    "import pandas as pd\n",
    "import scipy as stats\n",
    "from scipy.stats import skew\n",
    "import seaborn as sns\n",
    "import matplotlib.pyplot as plt\n",
    "\n",
    "import statsmodels.api as sm\n",
    "from sklearn.linear_model import LinearRegression\n",
    "from sklearn.model_selection import train_test_split , cross_val_score\n",
    "from sklearn.metrics import r2_score"
   ]
  },
  {
   "cell_type": "code",
   "execution_count": 2,
   "metadata": {},
   "outputs": [],
   "source": [
    "ames = pd.read_csv('./datasets/train.csv')\n",
    "test = pd.read_csv('./datasets/test.csv')\n",
    "\n",
    "ames.columns = ames.columns.str.lower().str.replace(\" \",\"_\")\n",
    "test.columns = test.columns.str.lower().str.replace(\" \",\"_\")"
   ]
  },
  {
   "cell_type": "markdown",
   "metadata": {},
   "source": [
    "### Perform all transformations on the test data that you did to clean training data"
   ]
  },
  {
   "cell_type": "code",
   "execution_count": 3,
   "metadata": {},
   "outputs": [
    {
     "data": {
      "text/plain": [
       "((2051, 81), (878, 80))"
      ]
     },
     "execution_count": 3,
     "metadata": {},
     "output_type": "execute_result"
    }
   ],
   "source": [
    "ames.shape, test.shape"
   ]
  },
  {
   "cell_type": "code",
   "execution_count": 4,
   "metadata": {},
   "outputs": [
    {
     "data": {
      "text/plain": [
       "None       534\n",
       "BrkFace    250\n",
       "Stone       80\n",
       "BrkCmn      12\n",
       "CBlock       1\n",
       "Name: mas_vnr_type, dtype: int64"
      ]
     },
     "execution_count": 4,
     "metadata": {},
     "output_type": "execute_result"
    }
   ],
   "source": [
    "test.mas_vnr_type.value_counts()"
   ]
  },
  {
   "cell_type": "code",
   "execution_count": 5,
   "metadata": {},
   "outputs": [
    {
     "name": "stdout",
     "output_type": "stream",
     "text": [
      "<class 'pandas.core.frame.DataFrame'>\n",
      "RangeIndex: 878 entries, 0 to 877\n",
      "Data columns (total 80 columns):\n",
      " #   Column           Non-Null Count  Dtype  \n",
      "---  ------           --------------  -----  \n",
      " 0   id               878 non-null    int64  \n",
      " 1   pid              878 non-null    int64  \n",
      " 2   ms_subclass      878 non-null    int64  \n",
      " 3   ms_zoning        878 non-null    object \n",
      " 4   lot_frontage     718 non-null    float64\n",
      " 5   lot_area         878 non-null    int64  \n",
      " 6   street           878 non-null    object \n",
      " 7   alley            58 non-null     object \n",
      " 8   lot_shape        878 non-null    object \n",
      " 9   land_contour     878 non-null    object \n",
      " 10  utilities        878 non-null    object \n",
      " 11  lot_config       878 non-null    object \n",
      " 12  land_slope       878 non-null    object \n",
      " 13  neighborhood     878 non-null    object \n",
      " 14  condition_1      878 non-null    object \n",
      " 15  condition_2      878 non-null    object \n",
      " 16  bldg_type        878 non-null    object \n",
      " 17  house_style      878 non-null    object \n",
      " 18  overall_qual     878 non-null    int64  \n",
      " 19  overall_cond     878 non-null    int64  \n",
      " 20  year_built       878 non-null    int64  \n",
      " 21  year_remod/add   878 non-null    int64  \n",
      " 22  roof_style       878 non-null    object \n",
      " 23  roof_matl        878 non-null    object \n",
      " 24  exterior_1st     878 non-null    object \n",
      " 25  exterior_2nd     878 non-null    object \n",
      " 26  mas_vnr_type     877 non-null    object \n",
      " 27  mas_vnr_area     877 non-null    float64\n",
      " 28  exter_qual       878 non-null    object \n",
      " 29  exter_cond       878 non-null    object \n",
      " 30  foundation       878 non-null    object \n",
      " 31  bsmt_qual        853 non-null    object \n",
      " 32  bsmt_cond        853 non-null    object \n",
      " 33  bsmt_exposure    853 non-null    object \n",
      " 34  bsmtfin_type_1   853 non-null    object \n",
      " 35  bsmtfin_sf_1     878 non-null    int64  \n",
      " 36  bsmtfin_type_2   853 non-null    object \n",
      " 37  bsmtfin_sf_2     878 non-null    int64  \n",
      " 38  bsmt_unf_sf      878 non-null    int64  \n",
      " 39  total_bsmt_sf    878 non-null    int64  \n",
      " 40  heating          878 non-null    object \n",
      " 41  heating_qc       878 non-null    object \n",
      " 42  central_air      878 non-null    object \n",
      " 43  electrical       877 non-null    object \n",
      " 44  1st_flr_sf       878 non-null    int64  \n",
      " 45  2nd_flr_sf       878 non-null    int64  \n",
      " 46  low_qual_fin_sf  878 non-null    int64  \n",
      " 47  gr_liv_area      878 non-null    int64  \n",
      " 48  bsmt_full_bath   878 non-null    int64  \n",
      " 49  bsmt_half_bath   878 non-null    int64  \n",
      " 50  full_bath        878 non-null    int64  \n",
      " 51  half_bath        878 non-null    int64  \n",
      " 52  bedroom_abvgr    878 non-null    int64  \n",
      " 53  kitchen_abvgr    878 non-null    int64  \n",
      " 54  kitchen_qual     878 non-null    object \n",
      " 55  totrms_abvgrd    878 non-null    int64  \n",
      " 56  functional       878 non-null    object \n",
      " 57  fireplaces       878 non-null    int64  \n",
      " 58  fireplace_qu     456 non-null    object \n",
      " 59  garage_type      834 non-null    object \n",
      " 60  garage_yr_blt    833 non-null    float64\n",
      " 61  garage_finish    833 non-null    object \n",
      " 62  garage_cars      878 non-null    int64  \n",
      " 63  garage_area      878 non-null    int64  \n",
      " 64  garage_qual      833 non-null    object \n",
      " 65  garage_cond      833 non-null    object \n",
      " 66  paved_drive      878 non-null    object \n",
      " 67  wood_deck_sf     878 non-null    int64  \n",
      " 68  open_porch_sf    878 non-null    int64  \n",
      " 69  enclosed_porch   878 non-null    int64  \n",
      " 70  3ssn_porch       878 non-null    int64  \n",
      " 71  screen_porch     878 non-null    int64  \n",
      " 72  pool_area        878 non-null    int64  \n",
      " 73  pool_qc          4 non-null      object \n",
      " 74  fence            172 non-null    object \n",
      " 75  misc_feature     41 non-null     object \n",
      " 76  misc_val         878 non-null    int64  \n",
      " 77  mo_sold          878 non-null    int64  \n",
      " 78  yr_sold          878 non-null    int64  \n",
      " 79  sale_type        878 non-null    object \n",
      "dtypes: float64(3), int64(35), object(42)\n",
      "memory usage: 548.9+ KB\n"
     ]
    }
   ],
   "source": [
    "test.info()"
   ]
  },
  {
   "cell_type": "code",
   "execution_count": 6,
   "metadata": {},
   "outputs": [],
   "source": [
    "#cols needing transform from (ordinal) object to numeric\n",
    "nans_to_zeros = ['bsmt_qual','bsmt_cond', 'fireplace_qu','garage_qual', 'garage_cond',\n",
    "                 'kitchen_qual', 'exter_qual','exter_cond','heating_qc','garage_finish', \n",
    "                 'bsmt_exposure','bsmtfin_type_1','bsmtfin_type_2', 'pool_qc', 'fence']\n",
    "\n",
    "nans_as_nans = ['lot_shape','utilities','land_slope', 'electrical','functional']"
   ]
  },
  {
   "cell_type": "code",
   "execution_count": 7,
   "metadata": {},
   "outputs": [],
   "source": [
    "to_num_masterdict={'Po':1, 'Fa':2, 'TA':3, 'Gd':4, 'Ex':5, #nans_to_zeros cols.\n",
    "'Unf':1, 'RFn':2, 'Fin':3, #garage_finish\n",
    "'MnWw':1, 'GdWo':2, 'MnPrv':3, 'GdPrv':4, #fence\n",
    "'No':1, 'Mn':2, 'Av':3, 'Gd':4,#bsmt_exposure\n",
    "'Unf':1, 'LwQ':2,'Rec':3, 'BLQ':4, 'ALQ':5, 'GLQ':6, #bsmtfin_type_1 and 2\n",
    "'IR3':1, 'IR2':2, 'IR1':3, 'Reg':4, #lot_shape\n",
    "'ELO':1, 'NoSeWa':2, 'NoSewr':3, 'Allpub':4, #utilities\n",
    "'Sev':1, 'Mod':2, 'Gtl':3, #land_slope\n",
    "'Sal':0, 'Sev':1, 'Maj2':2, 'Maj1':3, 'Mod':4, 'Min2':5, 'Min1':6, 'Typ':7, #functional\n",
    "'Mix':1, 'FuseP':2, 'FuseF':3, 'FuseA':4, 'SBrkr':5} #electrical"
   ]
  },
  {
   "cell_type": "markdown",
   "metadata": {},
   "source": [
    "#### Reclassify: ordinals to numeric, some numerics to categorical, some to binary, nans to 0s"
   ]
  },
  {
   "cell_type": "code",
   "execution_count": 8,
   "metadata": {},
   "outputs": [],
   "source": [
    "#conversion function\n",
    "def to_nums_w_zeros(df, targetcols):\n",
    "    for i in targetcols:\n",
    "        df[i] = df[i].map(to_num_masterdict)\n",
    "        df[i] = df[i].fillna(0)\n",
    "        #print(df[targetcols].value_counts()) #this line to check work, from source1"
   ]
  },
  {
   "cell_type": "code",
   "execution_count": 9,
   "metadata": {},
   "outputs": [],
   "source": [
    "to_nums_w_zeros(ames, nans_to_zeros)\n",
    "to_nums_w_zeros(test, nans_to_zeros)"
   ]
  },
  {
   "cell_type": "code",
   "execution_count": 10,
   "metadata": {},
   "outputs": [],
   "source": [
    "to_nums_w_zeros(ames, nans_as_nans)\n",
    "to_nums_w_zeros(test, nans_as_nans)"
   ]
  },
  {
   "cell_type": "code",
   "execution_count": 11,
   "metadata": {},
   "outputs": [],
   "source": [
    "to_obj_masterdict={20:'SC20', 30:'SC30', 40:'SC40', 45:'SC45', 50:'SC50', 60:'SC60',\n",
    "                 70:'SC70', 75:'SC75', 80:'SC80', 85:'SC85', 90:'SC90', 120:'SC120',\n",
    "                  150:'SC150', 160:'SC160', 180:'SC180', 190:'SC190', #ms_subclass\n",
    "                  1:'Jan', 2:'Feb', 3:'Mar', 4:'Apr', 5:'May', 6:'Jun', 7:'Jul',\n",
    "                  8:'Aug', 9:'Sep', 10:'Oct', 11:'Nov', 12:'Dec'} #months"
   ]
  },
  {
   "cell_type": "code",
   "execution_count": 12,
   "metadata": {},
   "outputs": [],
   "source": [
    "should_be_objs= ['ms_subclass','mo_sold']\n",
    "def num_to_obj(df, targetcols):\n",
    "    for i in targetcols:\n",
    "        df[i] = df[i].map(to_obj_masterdict)"
   ]
  },
  {
   "cell_type": "code",
   "execution_count": 13,
   "metadata": {},
   "outputs": [],
   "source": [
    "num_to_obj(ames, should_be_objs)\n",
    "num_to_obj(test, should_be_objs)"
   ]
  },
  {
   "cell_type": "code",
   "execution_count": 14,
   "metadata": {},
   "outputs": [],
   "source": [
    "def nans2none_nominal(df, targetcols):\n",
    "    for i in targetcols:\n",
    "        df[i] = df[i].fillna('None')"
   ]
  },
  {
   "cell_type": "code",
   "execution_count": 15,
   "metadata": {},
   "outputs": [],
   "source": [
    "nominal_nans = ['alley','misc_feature','garage_type','mas_vnr_type']\n",
    "nans2none_nominal(ames, nominal_nans)\n",
    "nans2none_nominal(test, nominal_nans)"
   ]
  },
  {
   "cell_type": "code",
   "execution_count": 16,
   "metadata": {},
   "outputs": [],
   "source": [
    "fill0_continuous_vars = ['mas_vnr_area','bsmt_half_bath','bsmt_full_bath','bsmtfin_sf_1',\n",
    "                         'bsmtfin_sf_2','total_bsmt_sf','bsmt_unf_sf','garage_cars','garage_area']\n",
    "\n",
    "def discrete_fillnas(df, targetcols):\n",
    "    for i in targetcols:\n",
    "        df[i] = df[i].fillna(0)"
   ]
  },
  {
   "cell_type": "code",
   "execution_count": 17,
   "metadata": {},
   "outputs": [],
   "source": [
    "discrete_fillnas(ames, fill0_continuous_vars)\n",
    "discrete_fillnas(test, fill0_continuous_vars)"
   ]
  },
  {
   "cell_type": "code",
   "execution_count": 18,
   "metadata": {},
   "outputs": [],
   "source": [
    "ames['central_air'] = ames['central_air'].map({'Y':1, 'N':0})\n",
    "ames['paved_drive'] = ames['paved_drive'].map({'Y':1, 'P':1, 'N':0})\n",
    "ames['mas_vnr_type'] = ames['mas_vnr_type'].map({'BrkFace':1, 'Stone':1, 'BrkCmn':1,\n",
    "                                                'CBlock':1, 'None':0})\n",
    "\n",
    "test['central_air'] = test['central_air'].map({'Y':1, 'N':0})\n",
    "test['paved_drive'] = test['paved_drive'].map({'Y':1, 'P':1, 'N':0})\n",
    "test['mas_vnr_type'] = test['mas_vnr_type'].map({'BrkFace':1, 'Stone':1, 'BrkCmn':1,\n",
    "                                                'CBlock':1, 'None':0})"
   ]
  },
  {
   "cell_type": "markdown",
   "metadata": {},
   "source": [
    "#### Drop columns"
   ]
  },
  {
   "cell_type": "code",
   "execution_count": 19,
   "metadata": {},
   "outputs": [],
   "source": [
    "cols_to_drop=['pid','alley','misc_feature','misc_val','garage_yr_blt','lot_frontage',\n",
    "              'fence', 'pool_qc','pool_area','mas_vnr_area','bsmtfin_type_2','bsmt_unf_sf',\n",
    "              'fireplaces','garage_cars','garage_cond','3ssn_porch','screen_porch']"
   ]
  },
  {
   "cell_type": "code",
   "execution_count": 20,
   "metadata": {},
   "outputs": [],
   "source": [
    "ames.drop(columns=cols_to_drop,inplace=True)\n",
    "test.drop(columns=cols_to_drop,inplace=True)"
   ]
  },
  {
   "cell_type": "markdown",
   "metadata": {},
   "source": [
    "#### Log transform skewed numerical vars"
   ]
  },
  {
   "cell_type": "code",
   "execution_count": 21,
   "metadata": {},
   "outputs": [],
   "source": [
    "#log transform saleprice for ames only\n",
    "ames['saleprice'] = np.log1p(ames['saleprice'])"
   ]
  },
  {
   "cell_type": "code",
   "execution_count": 22,
   "metadata": {},
   "outputs": [],
   "source": [
    "#log transform all numerical vars with skew >.5\n",
    "#no need to drop saleprice in test (already DNE)\n",
    "numerical = ames.select_dtypes(exclude = [\"object\"]).columns\n",
    "categorical = ames.select_dtypes(include = [\"object\"]).columns\n",
    "ames_cats= ames[categorical]"
   ]
  },
  {
   "cell_type": "code",
   "execution_count": 23,
   "metadata": {},
   "outputs": [],
   "source": [
    "ames_nums = ames[numerical].drop(columns=['saleprice'])"
   ]
  },
  {
   "cell_type": "code",
   "execution_count": 24,
   "metadata": {},
   "outputs": [],
   "source": [
    "t_numerical = test.select_dtypes(exclude = [\"object\"]).columns\n",
    "t_categorical = test.select_dtypes(include = [\"object\"]).columns\n",
    "test_nums= test[t_numerical]\n",
    "test_cats= test[t_categorical]"
   ]
  },
  {
   "cell_type": "code",
   "execution_count": 25,
   "metadata": {},
   "outputs": [],
   "source": [
    "#find skewed numeric features.  Code from source 3, and 4\n",
    "#\"general rule of thumb, abv(skew)>.5 is 'moderately skewed'\" - source 3\n",
    "allskew = ames_nums.apply(lambda x: skew(x))\n",
    "allskew = allskew[abs(allskew)>0.5]\n",
    "\n",
    "t_allskew = test_nums.apply(lambda x: skew(x))\n",
    "t_allskew = t_allskew[abs(t_allskew)>0.5] "
   ]
  },
  {
   "cell_type": "code",
   "execution_count": 26,
   "metadata": {},
   "outputs": [],
   "source": [
    "allskew_features = allskew.index #source 3\n",
    "ames_nums[allskew_features] = np.log1p(ames_nums[allskew_features])"
   ]
  },
  {
   "cell_type": "code",
   "execution_count": 27,
   "metadata": {},
   "outputs": [
    {
     "name": "stderr",
     "output_type": "stream",
     "text": [
      "/Users/helenmeigs/opt/anaconda3/lib/python3.8/site-packages/pandas/core/frame.py:3065: SettingWithCopyWarning: \n",
      "A value is trying to be set on a copy of a slice from a DataFrame.\n",
      "Try using .loc[row_indexer,col_indexer] = value instead\n",
      "\n",
      "See the caveats in the documentation: https://pandas.pydata.org/pandas-docs/stable/user_guide/indexing.html#returning-a-view-versus-a-copy\n",
      "  self[k1] = value[k2]\n"
     ]
    }
   ],
   "source": [
    "t_allskew_features = t_allskew.index\n",
    "test_nums[t_allskew_features] = np.log1p(test_nums[t_allskew_features])"
   ]
  },
  {
   "cell_type": "code",
   "execution_count": 41,
   "metadata": {},
   "outputs": [
    {
     "data": {
      "text/html": [
       "<div>\n",
       "<style scoped>\n",
       "    .dataframe tbody tr th:only-of-type {\n",
       "        vertical-align: middle;\n",
       "    }\n",
       "\n",
       "    .dataframe tbody tr th {\n",
       "        vertical-align: top;\n",
       "    }\n",
       "\n",
       "    .dataframe thead th {\n",
       "        text-align: right;\n",
       "    }\n",
       "</style>\n",
       "<table border=\"1\" class=\"dataframe\">\n",
       "  <thead>\n",
       "    <tr style=\"text-align: right;\">\n",
       "      <th></th>\n",
       "      <th>id</th>\n",
       "      <th>lot_area</th>\n",
       "      <th>lot_shape</th>\n",
       "      <th>utilities</th>\n",
       "      <th>land_slope</th>\n",
       "      <th>overall_qual</th>\n",
       "      <th>overall_cond</th>\n",
       "      <th>year_built</th>\n",
       "      <th>year_remod/add</th>\n",
       "      <th>mas_vnr_type</th>\n",
       "      <th>...</th>\n",
       "      <th>functional</th>\n",
       "      <th>fireplace_qu</th>\n",
       "      <th>garage_finish</th>\n",
       "      <th>garage_area</th>\n",
       "      <th>garage_qual</th>\n",
       "      <th>paved_drive</th>\n",
       "      <th>wood_deck_sf</th>\n",
       "      <th>open_porch_sf</th>\n",
       "      <th>enclosed_porch</th>\n",
       "      <th>yr_sold</th>\n",
       "    </tr>\n",
       "  </thead>\n",
       "  <tbody>\n",
       "    <tr>\n",
       "      <th>0</th>\n",
       "      <td>2658</td>\n",
       "      <td>9.120744</td>\n",
       "      <td>1.609438</td>\n",
       "      <td>0.0</td>\n",
       "      <td>1.386294</td>\n",
       "      <td>6</td>\n",
       "      <td>8</td>\n",
       "      <td>7.555382</td>\n",
       "      <td>1950</td>\n",
       "      <td>0</td>\n",
       "      <td>...</td>\n",
       "      <td>2.079442</td>\n",
       "      <td>0.0</td>\n",
       "      <td>1.0</td>\n",
       "      <td>440</td>\n",
       "      <td>0.693147</td>\n",
       "      <td>0.693147</td>\n",
       "      <td>0.000000</td>\n",
       "      <td>4.110874</td>\n",
       "      <td>4.727388</td>\n",
       "      <td>2006</td>\n",
       "    </tr>\n",
       "    <tr>\n",
       "      <th>1</th>\n",
       "      <td>2718</td>\n",
       "      <td>9.176059</td>\n",
       "      <td>1.386294</td>\n",
       "      <td>0.0</td>\n",
       "      <td>1.386294</td>\n",
       "      <td>5</td>\n",
       "      <td>4</td>\n",
       "      <td>7.589842</td>\n",
       "      <td>1977</td>\n",
       "      <td>0</td>\n",
       "      <td>...</td>\n",
       "      <td>2.079442</td>\n",
       "      <td>0.0</td>\n",
       "      <td>3.0</td>\n",
       "      <td>580</td>\n",
       "      <td>1.386294</td>\n",
       "      <td>0.693147</td>\n",
       "      <td>5.141664</td>\n",
       "      <td>0.000000</td>\n",
       "      <td>0.000000</td>\n",
       "      <td>2006</td>\n",
       "    </tr>\n",
       "    <tr>\n",
       "      <th>2</th>\n",
       "      <td>2414</td>\n",
       "      <td>9.747126</td>\n",
       "      <td>1.386294</td>\n",
       "      <td>0.0</td>\n",
       "      <td>1.386294</td>\n",
       "      <td>7</td>\n",
       "      <td>5</td>\n",
       "      <td>7.604396</td>\n",
       "      <td>2006</td>\n",
       "      <td>0</td>\n",
       "      <td>...</td>\n",
       "      <td>2.079442</td>\n",
       "      <td>4.0</td>\n",
       "      <td>2.0</td>\n",
       "      <td>426</td>\n",
       "      <td>1.386294</td>\n",
       "      <td>0.693147</td>\n",
       "      <td>4.615121</td>\n",
       "      <td>3.218876</td>\n",
       "      <td>0.000000</td>\n",
       "      <td>2006</td>\n",
       "    </tr>\n",
       "    <tr>\n",
       "      <th>3</th>\n",
       "      <td>1989</td>\n",
       "      <td>9.050289</td>\n",
       "      <td>1.609438</td>\n",
       "      <td>0.0</td>\n",
       "      <td>1.386294</td>\n",
       "      <td>5</td>\n",
       "      <td>6</td>\n",
       "      <td>7.562162</td>\n",
       "      <td>2006</td>\n",
       "      <td>0</td>\n",
       "      <td>...</td>\n",
       "      <td>2.079442</td>\n",
       "      <td>0.0</td>\n",
       "      <td>1.0</td>\n",
       "      <td>480</td>\n",
       "      <td>1.098612</td>\n",
       "      <td>0.000000</td>\n",
       "      <td>0.000000</td>\n",
       "      <td>0.000000</td>\n",
       "      <td>5.220356</td>\n",
       "      <td>2007</td>\n",
       "    </tr>\n",
       "    <tr>\n",
       "      <th>4</th>\n",
       "      <td>625</td>\n",
       "      <td>9.159152</td>\n",
       "      <td>1.386294</td>\n",
       "      <td>0.0</td>\n",
       "      <td>1.386294</td>\n",
       "      <td>6</td>\n",
       "      <td>5</td>\n",
       "      <td>7.582738</td>\n",
       "      <td>1963</td>\n",
       "      <td>1</td>\n",
       "      <td>...</td>\n",
       "      <td>2.079442</td>\n",
       "      <td>4.0</td>\n",
       "      <td>2.0</td>\n",
       "      <td>514</td>\n",
       "      <td>1.386294</td>\n",
       "      <td>0.693147</td>\n",
       "      <td>0.000000</td>\n",
       "      <td>4.343805</td>\n",
       "      <td>0.000000</td>\n",
       "      <td>2009</td>\n",
       "    </tr>\n",
       "  </tbody>\n",
       "</table>\n",
       "<p>5 rows × 44 columns</p>\n",
       "</div>"
      ],
      "text/plain": [
       "     id  lot_area  lot_shape  utilities  land_slope  overall_qual  \\\n",
       "0  2658  9.120744   1.609438        0.0    1.386294             6   \n",
       "1  2718  9.176059   1.386294        0.0    1.386294             5   \n",
       "2  2414  9.747126   1.386294        0.0    1.386294             7   \n",
       "3  1989  9.050289   1.609438        0.0    1.386294             5   \n",
       "4   625  9.159152   1.386294        0.0    1.386294             6   \n",
       "\n",
       "   overall_cond  year_built  year_remod/add  mas_vnr_type  ...  functional  \\\n",
       "0             8    7.555382            1950             0  ...    2.079442   \n",
       "1             4    7.589842            1977             0  ...    2.079442   \n",
       "2             5    7.604396            2006             0  ...    2.079442   \n",
       "3             6    7.562162            2006             0  ...    2.079442   \n",
       "4             5    7.582738            1963             1  ...    2.079442   \n",
       "\n",
       "   fireplace_qu  garage_finish  garage_area  garage_qual  paved_drive  \\\n",
       "0           0.0            1.0          440     0.693147     0.693147   \n",
       "1           0.0            3.0          580     1.386294     0.693147   \n",
       "2           4.0            2.0          426     1.386294     0.693147   \n",
       "3           0.0            1.0          480     1.098612     0.000000   \n",
       "4           4.0            2.0          514     1.386294     0.693147   \n",
       "\n",
       "   wood_deck_sf  open_porch_sf  enclosed_porch  yr_sold  \n",
       "0      0.000000       4.110874        4.727388     2006  \n",
       "1      5.141664       0.000000        0.000000     2006  \n",
       "2      4.615121       3.218876        0.000000     2006  \n",
       "3      0.000000       0.000000        5.220356     2007  \n",
       "4      0.000000       4.343805        0.000000     2009  \n",
       "\n",
       "[5 rows x 44 columns]"
      ]
     },
     "execution_count": 41,
     "metadata": {},
     "output_type": "execute_result"
    }
   ],
   "source": [
    "test_nums.head()"
   ]
  },
  {
   "cell_type": "markdown",
   "metadata": {},
   "source": [
    "#### Dummify"
   ]
  },
  {
   "cell_type": "code",
   "execution_count": 28,
   "metadata": {},
   "outputs": [],
   "source": [
    "ames_cats = pd.get_dummies(ames_cats, drop_first=True)\n",
    "test_cats = pd.get_dummies(test_cats, drop_first=True)"
   ]
  },
  {
   "cell_type": "code",
   "execution_count": 29,
   "metadata": {},
   "outputs": [],
   "source": [
    "train_log_dum = pd.concat([ames_nums, ames_cats, ames['saleprice']], axis=1)\n",
    "test_log_dum = pd.concat([test_nums, test_cats], axis=1)"
   ]
  },
  {
   "cell_type": "markdown",
   "metadata": {},
   "source": [
    "### FIT: X = vars with > .3 correlation"
   ]
  },
  {
   "cell_type": "code",
   "execution_count": 30,
   "metadata": {},
   "outputs": [],
   "source": [
    "train_corr = train_log_dum.corr()\n",
    "cols_corrs_over3 = train_corr['saleprice'].sort_values(ascending = False).loc[train_corr['saleprice']>.3].drop('saleprice').index\n",
    "\n",
    "y = train_log_dum['saleprice']\n",
    "X = train_log_dum[cols_corrs_over3]\n",
    "X_test_sub = test_log_dum[cols_corrs_over3]"
   ]
  },
  {
   "cell_type": "code",
   "execution_count": 31,
   "metadata": {},
   "outputs": [],
   "source": [
    "lr = LinearRegression()"
   ]
  },
  {
   "cell_type": "code",
   "execution_count": 32,
   "metadata": {},
   "outputs": [
    {
     "data": {
      "text/plain": [
       "LinearRegression()"
      ]
     },
     "execution_count": 32,
     "metadata": {},
     "output_type": "execute_result"
    }
   ],
   "source": [
    "lr.fit(X,y)"
   ]
  },
  {
   "cell_type": "code",
   "execution_count": 33,
   "metadata": {},
   "outputs": [],
   "source": [
    "test_preds = lr.predict(X_test_sub)"
   ]
  },
  {
   "cell_type": "code",
   "execution_count": 34,
   "metadata": {},
   "outputs": [],
   "source": [
    "unlog_predictions = np.expm1(test_preds)"
   ]
  },
  {
   "cell_type": "code",
   "execution_count": 35,
   "metadata": {},
   "outputs": [],
   "source": [
    "kaggle_submission = {\n",
    "    'Id' : test['id'],\n",
    "    'SalePrice': unlog_predictions\n",
    "}\n",
    "kaggle_submission= pd.DataFrame(kaggle_submission)"
   ]
  },
  {
   "cell_type": "code",
   "execution_count": 36,
   "metadata": {},
   "outputs": [
    {
     "data": {
      "text/html": [
       "<div>\n",
       "<style scoped>\n",
       "    .dataframe tbody tr th:only-of-type {\n",
       "        vertical-align: middle;\n",
       "    }\n",
       "\n",
       "    .dataframe tbody tr th {\n",
       "        vertical-align: top;\n",
       "    }\n",
       "\n",
       "    .dataframe thead th {\n",
       "        text-align: right;\n",
       "    }\n",
       "</style>\n",
       "<table border=\"1\" class=\"dataframe\">\n",
       "  <thead>\n",
       "    <tr style=\"text-align: right;\">\n",
       "      <th></th>\n",
       "      <th>Id</th>\n",
       "      <th>SalePrice</th>\n",
       "    </tr>\n",
       "  </thead>\n",
       "  <tbody>\n",
       "    <tr>\n",
       "      <th>0</th>\n",
       "      <td>2658</td>\n",
       "      <td>1.149955e+06</td>\n",
       "    </tr>\n",
       "    <tr>\n",
       "      <th>1</th>\n",
       "      <td>2718</td>\n",
       "      <td>9.639579e+06</td>\n",
       "    </tr>\n",
       "    <tr>\n",
       "      <th>2</th>\n",
       "      <td>2414</td>\n",
       "      <td>1.194941e+06</td>\n",
       "    </tr>\n",
       "    <tr>\n",
       "      <th>3</th>\n",
       "      <td>1989</td>\n",
       "      <td>8.437692e+05</td>\n",
       "    </tr>\n",
       "    <tr>\n",
       "      <th>4</th>\n",
       "      <td>625</td>\n",
       "      <td>3.359335e+06</td>\n",
       "    </tr>\n",
       "    <tr>\n",
       "      <th>...</th>\n",
       "      <td>...</td>\n",
       "      <td>...</td>\n",
       "    </tr>\n",
       "    <tr>\n",
       "      <th>873</th>\n",
       "      <td>1662</td>\n",
       "      <td>1.760065e+06</td>\n",
       "    </tr>\n",
       "    <tr>\n",
       "      <th>874</th>\n",
       "      <td>1234</td>\n",
       "      <td>2.580141e+06</td>\n",
       "    </tr>\n",
       "    <tr>\n",
       "      <th>875</th>\n",
       "      <td>1373</td>\n",
       "      <td>1.254005e+06</td>\n",
       "    </tr>\n",
       "    <tr>\n",
       "      <th>876</th>\n",
       "      <td>1672</td>\n",
       "      <td>7.198005e+05</td>\n",
       "    </tr>\n",
       "    <tr>\n",
       "      <th>877</th>\n",
       "      <td>1939</td>\n",
       "      <td>8.659387e+05</td>\n",
       "    </tr>\n",
       "  </tbody>\n",
       "</table>\n",
       "<p>878 rows × 2 columns</p>\n",
       "</div>"
      ],
      "text/plain": [
       "       Id     SalePrice\n",
       "0    2658  1.149955e+06\n",
       "1    2718  9.639579e+06\n",
       "2    2414  1.194941e+06\n",
       "3    1989  8.437692e+05\n",
       "4     625  3.359335e+06\n",
       "..    ...           ...\n",
       "873  1662  1.760065e+06\n",
       "874  1234  2.580141e+06\n",
       "875  1373  1.254005e+06\n",
       "876  1672  7.198005e+05\n",
       "877  1939  8.659387e+05\n",
       "\n",
       "[878 rows x 2 columns]"
      ]
     },
     "execution_count": 36,
     "metadata": {},
     "output_type": "execute_result"
    }
   ],
   "source": [
    "kaggle_submission"
   ]
  },
  {
   "cell_type": "code",
   "execution_count": 37,
   "metadata": {},
   "outputs": [
    {
     "data": {
      "text/plain": [
       "166774.4350451321"
      ]
     },
     "execution_count": 37,
     "metadata": {},
     "output_type": "execute_result"
    }
   ],
   "source": [
    "np.expm1(train_log_dum.saleprice.mean())"
   ]
  },
  {
   "cell_type": "code",
   "execution_count": 38,
   "metadata": {},
   "outputs": [
    {
     "data": {
      "text/plain": [
       "3623311.457420508"
      ]
     },
     "execution_count": 38,
     "metadata": {},
     "output_type": "execute_result"
    }
   ],
   "source": [
    "kaggle_submission.SalePrice.mean()"
   ]
  },
  {
   "cell_type": "code",
   "execution_count": 39,
   "metadata": {},
   "outputs": [],
   "source": [
    "#kaggle_submission1.to_csv('./datasets/kag_submission1_corr_over_3.csv', index=False)"
   ]
  }
 ],
 "metadata": {
  "kernelspec": {
   "display_name": "Python 3",
   "language": "python",
   "name": "python3"
  },
  "language_info": {
   "codemirror_mode": {
    "name": "ipython",
    "version": 3
   },
   "file_extension": ".py",
   "mimetype": "text/x-python",
   "name": "python",
   "nbconvert_exporter": "python",
   "pygments_lexer": "ipython3",
   "version": "3.8.5"
  }
 },
 "nbformat": 4,
 "nbformat_minor": 4
}
