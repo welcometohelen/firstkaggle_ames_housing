{
 "cells": [
  {
   "cell_type": "code",
   "execution_count": null,
   "metadata": {},
   "outputs": [],
   "source": []
  },
  {
   "cell_type": "markdown",
   "metadata": {},
   "source": [
    "# Citations\n",
    "'Machine Learning Regression Project - Predicting Housing Sales' by Jeff Hale\n",
    "* https://www.kaggle.com/discdiver/regression-project-predicting-housing-sales\n",
    "\n"
   ]
  },
  {
   "cell_type": "code",
   "execution_count": 1,
   "metadata": {},
   "outputs": [],
   "source": [
    "import numpy as np\n",
    "import pandas as pd\n",
    "import scipy as stats\n",
    "from scipy.stats import skew\n",
    "import seaborn as sns\n",
    "import matplotlib.pyplot as plt\n",
    "import os\n",
    "\n",
    "import statsmodels.api as sm\n",
    "from sklearn.linear_model import LinearRegression, Lasso, LassoCV, Ridge, RidgeCV\n",
    "from sklearn.model_selection import train_test_split , cross_val_score\n",
    "from sklearn.metrics import r2_score, mean_squared_error\n",
    "from sklearn.dummy import DummyRegressor\n",
    "from sklearn.preprocessing import StandardScaler"
   ]
  },
  {
   "cell_type": "code",
   "execution_count": 2,
   "metadata": {},
   "outputs": [],
   "source": [
    "pd.set_option('display.max_rows',None)\n",
    "pd.set_option('display.max_columns',None)"
   ]
  },
  {
   "cell_type": "code",
   "execution_count": 3,
   "metadata": {},
   "outputs": [],
   "source": [
    "#not confusing at all\n",
    "merged_logged = pd.read_csv('./datasets/merged_logged_dummied.csv') #includes saleprice (not logged)\n",
    "training_logged = merged_logged.loc[merged_logged['is_train']==1] #includes saleprice\n",
    "\n",
    "training_nodums = pd.read_csv('./datasets/training_cleaned_nodummies.csv')\n",
    "training_nologs = pd.read_csv('./datasets/merged_data_clean_dummies.csv')\n",
    "training_nologs['saleprice'] = training_logged['saleprice']\n",
    "\n",
    "lasso_coefs = pd.read_csv('./datasets/lasso_coefs.csv')"
   ]
  },
  {
   "cell_type": "code",
   "execution_count": 4,
   "metadata": {},
   "outputs": [],
   "source": [
    "#ala Gwen\n",
    "def convert_snake_case(label, capitalize_first=True, capitalize_all=False):\n",
    "    if capitalize_all:\n",
    "        return ' '.join([word.capitalize() for word in label.split('_')])\n",
    "    elif capitalize_first:\n",
    "        return ' '.join([word.capitalize() if i == 0 else word for i, word in enumerate(label.split('_'))])\n",
    "    else:\n",
    "        return ' '.join([word for word in label.split('_')])"
   ]
  },
  {
   "cell_type": "code",
   "execution_count": 5,
   "metadata": {
    "scrolled": true
   },
   "outputs": [],
   "source": [
    "#training_nologs.isnull().sum().sort_values(ascending=False)"
   ]
  },
  {
   "cell_type": "markdown",
   "metadata": {},
   "source": [
    "## Problem Statement, and audience:\n",
    "The goal of this presentation is to inform an audience of homeowners with remodel aspirations how to best improve the value of their property.  A complete answer to this question would be a model that takes a specific valuation goal, and return the home modification/s that could achieve that goal.  But I am only 6kyu.\n",
    "\n",
    "This presentation strives for the more modest deliverable of pointing renovators towards the most valuable accessories or overhauls.\n",
    "\n",
    "To (begin to) answer this question, I will be utilizing coefficients and relationships defined in the kaggle modeling process, with some reverse transforming of data to make them more interpretable."
   ]
  },
  {
   "cell_type": "markdown",
   "metadata": {},
   "source": [
    "Return discrete scales to original form for interpretation.  (They are currently squared)"
   ]
  },
  {
   "cell_type": "code",
   "execution_count": 6,
   "metadata": {},
   "outputs": [],
   "source": [
    "#undo past mod of ordinal scale\n",
    "discretios = ['bsmt_qual','bsmt_cond', 'fireplace_qu','garage_qual', 'garage_cond',\n",
    "              'kitchen_qual', 'exter_qual','exter_cond','heating_qc','garage_finish', \n",
    "              'bsmt_exposure','bsmtfin_type_1','bsmtfin_type_2', 'pool_qc', 'fence', #nans_to_zeros\n",
    "              'lot_shape','utilities','land_slope', 'electrical','functional', #nans_to_median\n",
    "              'overall_qual', 'overall_cond'] #additional\n",
    "\n",
    "training_nologs[discretios] = training_nologs[discretios].apply(lambda x: x**0.5)"
   ]
  },
  {
   "cell_type": "code",
   "execution_count": 7,
   "metadata": {},
   "outputs": [],
   "source": [
    "#training_nologs.head()"
   ]
  },
  {
   "cell_type": "code",
   "execution_count": 45,
   "metadata": {},
   "outputs": [
    {
     "data": {
      "text/html": [
       "<div>\n",
       "<style scoped>\n",
       "    .dataframe tbody tr th:only-of-type {\n",
       "        vertical-align: middle;\n",
       "    }\n",
       "\n",
       "    .dataframe tbody tr th {\n",
       "        vertical-align: top;\n",
       "    }\n",
       "\n",
       "    .dataframe thead th {\n",
       "        text-align: right;\n",
       "    }\n",
       "</style>\n",
       "<table border=\"1\" class=\"dataframe\">\n",
       "  <thead>\n",
       "    <tr style=\"text-align: right;\">\n",
       "      <th></th>\n",
       "      <th>saleprice</th>\n",
       "    </tr>\n",
       "  </thead>\n",
       "  <tbody>\n",
       "    <tr>\n",
       "      <th>saleprice</th>\n",
       "      <td>1.000000</td>\n",
       "    </tr>\n",
       "    <tr>\n",
       "      <th>overall_qual</th>\n",
       "      <td>0.803462</td>\n",
       "    </tr>\n",
       "    <tr>\n",
       "      <th>gr_liv_area</th>\n",
       "      <td>0.719463</td>\n",
       "    </tr>\n",
       "    <tr>\n",
       "      <th>exter_qual</th>\n",
       "      <td>0.715048</td>\n",
       "    </tr>\n",
       "    <tr>\n",
       "      <th>kitchen_qual</th>\n",
       "      <td>0.694295</td>\n",
       "    </tr>\n",
       "  </tbody>\n",
       "</table>\n",
       "</div>"
      ],
      "text/plain": [
       "              saleprice\n",
       "saleprice      1.000000\n",
       "overall_qual   0.803462\n",
       "gr_liv_area    0.719463\n",
       "exter_qual     0.715048\n",
       "kitchen_qual   0.694295"
      ]
     },
     "execution_count": 45,
     "metadata": {},
     "output_type": "execute_result"
    }
   ],
   "source": [
    "training_nologs.corr()[['saleprice']].sort_values('saleprice', ascending=False).head()"
   ]
  },
  {
   "cell_type": "code",
   "execution_count": 44,
   "metadata": {},
   "outputs": [],
   "source": [
    "#continuous vars logged, discrete scales squared - \n",
    "#heatmapped for comparison, but nothing fruitful.  use un-transformed data.\n",
    "# plt.figure(figsize=(4,12))\n",
    "# sp_corr45= training_logged.corr()[['saleprice']].sort_values('saleprice', ascending=False).head(45)\n",
    "# sns.heatmap(sp_corr45, cmap = 'coolwarm', annot=True, vmin=-1, vmax=1, yticklabels=[convert_snake_case(i) for i in sp_corr45.index]);"
   ]
  },
  {
   "cell_type": "code",
   "execution_count": 9,
   "metadata": {},
   "outputs": [],
   "source": [
    "fullcorr_logged= training_logged.corr()[['saleprice']].sort_values('saleprice', ascending=False)\n",
    "fullcorr_logged.reset_index(inplace=True)"
   ]
  },
  {
   "cell_type": "code",
   "execution_count": 10,
   "metadata": {},
   "outputs": [
    {
     "data": {
      "image/png": "[encoded data removed]",
      "text/plain": [
       "<Figure size 288x864 with 2 Axes>"
      ]
     },
     "metadata": {
      "needs_background": "light"
     },
     "output_type": "display_data"
    }
   ],
   "source": [
    "#no log mod, discrete scales original\n",
    "plt.figure(figsize=(4,12))\n",
    "sp_corr2= training_nologs.corr()[['saleprice']].sort_values('saleprice', ascending=False).head(45)\n",
    "sns.heatmap(sp_corr2, cmap = 'coolwarm', annot=True, vmin=-1, vmax=1, yticklabels=[convert_snake_case(i) for i in sp_corr2.index]);"
   ]
  },
  {
   "cell_type": "code",
   "execution_count": 19,
   "metadata": {},
   "outputs": [],
   "source": [
    "fullcorr_nologs = training_nologs.corr()[['saleprice']].sort_values('saleprice', ascending=False)\n",
    "fullcorr_nologs.reset_index(inplace=True)"
   ]
  },
  {
   "cell_type": "code",
   "execution_count": 21,
   "metadata": {},
   "outputs": [],
   "source": [
    "fullcorr_nologs.rename(columns={'index':'feature','saleprice':'corr_no_mods'},inplace=True)"
   ]
  },
  {
   "cell_type": "code",
   "execution_count": 26,
   "metadata": {},
   "outputs": [],
   "source": [
    "fullcorr_logged.rename(columns={'index':'feature','saleprice':'corr_log_stretch'},inplace=True)"
   ]
  },
  {
   "cell_type": "code",
   "execution_count": 29,
   "metadata": {},
   "outputs": [
    {
     "data": {
      "text/html": [
       "<div>\n",
       "<style scoped>\n",
       "    .dataframe tbody tr th:only-of-type {\n",
       "        vertical-align: middle;\n",
       "    }\n",
       "\n",
       "    .dataframe tbody tr th {\n",
       "        vertical-align: top;\n",
       "    }\n",
       "\n",
       "    .dataframe thead th {\n",
       "        text-align: right;\n",
       "    }\n",
       "</style>\n",
       "<table border=\"1\" class=\"dataframe\">\n",
       "  <thead>\n",
       "    <tr style=\"text-align: right;\">\n",
       "      <th></th>\n",
       "      <th>feature</th>\n",
       "      <th>lasso_coef</th>\n",
       "    </tr>\n",
       "  </thead>\n",
       "  <tbody>\n",
       "  </tbody>\n",
       "</table>\n",
       "</div>"
      ],
      "text/plain": [
       "Empty DataFrame\n",
       "Columns: [feature, lasso_coef]\n",
       "Index: []"
      ]
     },
     "execution_count": 29,
     "metadata": {},
     "output_type": "execute_result"
    }
   ],
   "source": [
    "lasso_coefs.rename(columns={'Unnamed: 0':'feature', '0':'lasso_coef'}, inplace=True)"
   ]
  },
  {
   "cell_type": "code",
   "execution_count": 40,
   "metadata": {},
   "outputs": [],
   "source": [
    "#join and concat are on strike...merge works in two steps?  Scab.\n",
    "corr_and_coef = fullcorr_nologs.merge(fullcorr_logged, on = 'feature')\n",
    "corr_and_coef = corr_and_coef.merge(lasso_coefs, on = 'feature')\n"
   ]
  },
  {
   "cell_type": "code",
   "execution_count": 42,
   "metadata": {},
   "outputs": [],
   "source": [
    "corr_and_coef.to_csv('./datasets/corr_and_coef_presentation.csv')"
   ]
  },
  {
   "cell_type": "code",
   "execution_count": null,
   "metadata": {},
   "outputs": [],
   "source": []
  },
  {
   "cell_type": "code",
   "execution_count": null,
   "metadata": {},
   "outputs": [],
   "source": []
  },
  {
   "cell_type": "code",
   "execution_count": null,
   "metadata": {},
   "outputs": [],
   "source": []
  },
  {
   "cell_type": "code",
   "execution_count": null,
   "metadata": {},
   "outputs": [],
   "source": []
  },
  {
   "cell_type": "code",
   "execution_count": null,
   "metadata": {},
   "outputs": [],
   "source": []
  },
  {
   "cell_type": "code",
   "execution_count": null,
   "metadata": {},
   "outputs": [],
   "source": []
  }
 ],
 "metadata": {
  "kernelspec": {
   "display_name": "Python 3",
   "language": "python",
   "name": "python3"
  },
  "language_info": {
   "codemirror_mode": {
    "name": "ipython",
    "version": 3
   },
   "file_extension": ".py",
   "mimetype": "text/x-python",
   "name": "python",
   "nbconvert_exporter": "python",
   "pygments_lexer": "ipython3",
   "version": "3.8.5"
  }
 },
 "nbformat": 4,
 "nbformat_minor": 4
}
