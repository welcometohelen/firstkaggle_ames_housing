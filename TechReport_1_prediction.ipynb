{
 "cells": [
  {
   "cell_type": "markdown",
   "metadata": {},
   "source": [
    "# Part I: Cleaning, EDA, and modeling for Kaggle Competition\n",
    "### Prediction\n",
    "Outputs supply clean data and guide the approach to the presentation [Technical Report Part II](http://localhost:8888/notebooks/Presentation%20Notebook%20v2.ipynb), but the presentation problem statement is autonomous."
   ]
  },
  {
   "cell_type": "markdown",
   "metadata": {},
   "source": [
    "## Merging Train and Test for cleaning\n",
    "The steps for cleaning were determined using only the training data, so there was no risk of data leakage influencing decision-making.  Here I knit the train and test sets together in order to clean them simultaneously instead of side by side.  Care is taken to keep train and test data identified and separated from each other in this aggregate cleaning."
   ]
  },
  {
   "cell_type": "code",
   "execution_count": 1,
   "metadata": {},
   "outputs": [],
   "source": [
    "import numpy as np\n",
    "import pandas as pd\n",
    "import scipy as stats\n",
    "from scipy.stats import skew\n",
    "import seaborn as sns\n",
    "import matplotlib.pyplot as plt\n",
    "import os\n",
    "\n",
    "import statsmodels.api as sm\n",
    "from sklearn.linear_model import LinearRegression, Lasso, LassoCV, Ridge, RidgeCV\n",
    "from sklearn.model_selection import train_test_split , cross_val_score\n",
    "from sklearn.metrics import r2_score, mean_squared_error\n",
    "from sklearn.dummy import DummyRegressor\n",
    "from sklearn.preprocessing import StandardScaler"
   ]
  },
  {
   "cell_type": "markdown",
   "metadata": {},
   "source": [
    "## Citations\n",
    "Source 1: 'Intermediate Data Cleaning' by Kevin Crystal, GA-DSI alumn\n",
    "- https://medium.com/@kevin.a.crystal/intermediate-data-cleaning-195e1af3ccf9\n",
    "- Mostly used for conceptual approach to cleaning.  Noted in code notes if actual code used.\n",
    "\n",
    "\n",
    "Source 2: 'Comprehensive data exploration with Python' by Pedro Marcelino\n",
    "- https://www.kaggle.com/pmarcelino/comprehensive-data-exploration-with-python\n",
    "- ripped code to print df of nulls and what % of the column those nulls represent\n",
    "\n",
    "\n",
    "Source 3: 'A study on Regression applied to the Ames dataset' by Julien Cohen Solal\n",
    "- https://www.kaggle.com/juliencs/a-study-on-regression-applied-to-the-ames-dataset\n",
    "\n",
    "Source 4: 'Regularized Linear Models' by Alexandru Papiu\n",
    "- https://www.kaggle.com/apapiu/house-prices-advanced-regression-techniques/regularized-linear-models\n",
    "\n",
    "Source 5: 'Stacked Regressions: Top 4% on Leaderboard' by Serigne\n",
    "- https://www.kaggle.com/serigne/stacked-regressions-top-4-on-leaderboard\n",
    "\n",
    "Source 6: 'How to not fail this project' by Gwen Rathgerber\n",
    "- process for creating dummy model\n",
    "- idea for stretching the scale of ordinal variables\n",
    "- some code chunks from the 'reusable-graphing-fx' document she disseminated"
   ]
  },
  {
   "cell_type": "code",
   "execution_count": 2,
   "metadata": {},
   "outputs": [],
   "source": [
    "training = pd.read_csv('./datasets/train.csv')\n",
    "testing = pd.read_csv('./datasets/test.csv')"
   ]
  },
  {
   "cell_type": "code",
   "execution_count": 3,
   "metadata": {},
   "outputs": [
    {
     "name": "stdout",
     "output_type": "stream",
     "text": [
      "kaggle_submissions_all already exists\n"
     ]
    }
   ],
   "source": [
    "#make folder for kaggle submission csvs\n",
    "directory = 'kaggle_submissions_all'\n",
    "if not os.path.isdir(directory):\n",
    "    os.makedirs(directory)\n",
    "    print(\"created folder: \", directory)\n",
    "else:\n",
    "    print(directory, \"already exists\")"
   ]
  },
  {
   "cell_type": "code",
   "execution_count": 4,
   "metadata": {},
   "outputs": [
    {
     "name": "stdout",
     "output_type": "stream",
     "text": [
      "(2051, 81) (878, 80)\n"
     ]
    }
   ],
   "source": [
    "print(training.shape, testing.shape)"
   ]
  },
  {
   "cell_type": "code",
   "execution_count": 5,
   "metadata": {},
   "outputs": [
    {
     "data": {
      "text/html": [
       "<div>\n",
       "<style scoped>\n",
       "    .dataframe tbody tr th:only-of-type {\n",
       "        vertical-align: middle;\n",
       "    }\n",
       "\n",
       "    .dataframe tbody tr th {\n",
       "        vertical-align: top;\n",
       "    }\n",
       "\n",
       "    .dataframe thead th {\n",
       "        text-align: right;\n",
       "    }\n",
       "</style>\n",
       "<table border=\"1\" class=\"dataframe\">\n",
       "  <thead>\n",
       "    <tr style=\"text-align: right;\">\n",
       "      <th></th>\n",
       "      <th>Id</th>\n",
       "      <th>PID</th>\n",
       "      <th>MS SubClass</th>\n",
       "      <th>MS Zoning</th>\n",
       "      <th>Lot Frontage</th>\n",
       "      <th>Lot Area</th>\n",
       "      <th>Street</th>\n",
       "      <th>Alley</th>\n",
       "      <th>Lot Shape</th>\n",
       "      <th>Land Contour</th>\n",
       "      <th>...</th>\n",
       "      <th>Screen Porch</th>\n",
       "      <th>Pool Area</th>\n",
       "      <th>Pool QC</th>\n",
       "      <th>Fence</th>\n",
       "      <th>Misc Feature</th>\n",
       "      <th>Misc Val</th>\n",
       "      <th>Mo Sold</th>\n",
       "      <th>Yr Sold</th>\n",
       "      <th>Sale Type</th>\n",
       "      <th>SalePrice</th>\n",
       "    </tr>\n",
       "  </thead>\n",
       "  <tbody>\n",
       "    <tr>\n",
       "      <th>0</th>\n",
       "      <td>109</td>\n",
       "      <td>533352170</td>\n",
       "      <td>60</td>\n",
       "      <td>RL</td>\n",
       "      <td>NaN</td>\n",
       "      <td>13517</td>\n",
       "      <td>Pave</td>\n",
       "      <td>NaN</td>\n",
       "      <td>IR1</td>\n",
       "      <td>Lvl</td>\n",
       "      <td>...</td>\n",
       "      <td>0</td>\n",
       "      <td>0</td>\n",
       "      <td>NaN</td>\n",
       "      <td>NaN</td>\n",
       "      <td>NaN</td>\n",
       "      <td>0</td>\n",
       "      <td>3</td>\n",
       "      <td>2010</td>\n",
       "      <td>WD</td>\n",
       "      <td>130500</td>\n",
       "    </tr>\n",
       "    <tr>\n",
       "      <th>1</th>\n",
       "      <td>544</td>\n",
       "      <td>531379050</td>\n",
       "      <td>60</td>\n",
       "      <td>RL</td>\n",
       "      <td>43.0</td>\n",
       "      <td>11492</td>\n",
       "      <td>Pave</td>\n",
       "      <td>NaN</td>\n",
       "      <td>IR1</td>\n",
       "      <td>Lvl</td>\n",
       "      <td>...</td>\n",
       "      <td>0</td>\n",
       "      <td>0</td>\n",
       "      <td>NaN</td>\n",
       "      <td>NaN</td>\n",
       "      <td>NaN</td>\n",
       "      <td>0</td>\n",
       "      <td>4</td>\n",
       "      <td>2009</td>\n",
       "      <td>WD</td>\n",
       "      <td>220000</td>\n",
       "    </tr>\n",
       "    <tr>\n",
       "      <th>2</th>\n",
       "      <td>153</td>\n",
       "      <td>535304180</td>\n",
       "      <td>20</td>\n",
       "      <td>RL</td>\n",
       "      <td>68.0</td>\n",
       "      <td>7922</td>\n",
       "      <td>Pave</td>\n",
       "      <td>NaN</td>\n",
       "      <td>Reg</td>\n",
       "      <td>Lvl</td>\n",
       "      <td>...</td>\n",
       "      <td>0</td>\n",
       "      <td>0</td>\n",
       "      <td>NaN</td>\n",
       "      <td>NaN</td>\n",
       "      <td>NaN</td>\n",
       "      <td>0</td>\n",
       "      <td>1</td>\n",
       "      <td>2010</td>\n",
       "      <td>WD</td>\n",
       "      <td>109000</td>\n",
       "    </tr>\n",
       "    <tr>\n",
       "      <th>3</th>\n",
       "      <td>318</td>\n",
       "      <td>916386060</td>\n",
       "      <td>60</td>\n",
       "      <td>RL</td>\n",
       "      <td>73.0</td>\n",
       "      <td>9802</td>\n",
       "      <td>Pave</td>\n",
       "      <td>NaN</td>\n",
       "      <td>Reg</td>\n",
       "      <td>Lvl</td>\n",
       "      <td>...</td>\n",
       "      <td>0</td>\n",
       "      <td>0</td>\n",
       "      <td>NaN</td>\n",
       "      <td>NaN</td>\n",
       "      <td>NaN</td>\n",
       "      <td>0</td>\n",
       "      <td>4</td>\n",
       "      <td>2010</td>\n",
       "      <td>WD</td>\n",
       "      <td>174000</td>\n",
       "    </tr>\n",
       "    <tr>\n",
       "      <th>4</th>\n",
       "      <td>255</td>\n",
       "      <td>906425045</td>\n",
       "      <td>50</td>\n",
       "      <td>RL</td>\n",
       "      <td>82.0</td>\n",
       "      <td>14235</td>\n",
       "      <td>Pave</td>\n",
       "      <td>NaN</td>\n",
       "      <td>IR1</td>\n",
       "      <td>Lvl</td>\n",
       "      <td>...</td>\n",
       "      <td>0</td>\n",
       "      <td>0</td>\n",
       "      <td>NaN</td>\n",
       "      <td>NaN</td>\n",
       "      <td>NaN</td>\n",
       "      <td>0</td>\n",
       "      <td>3</td>\n",
       "      <td>2010</td>\n",
       "      <td>WD</td>\n",
       "      <td>138500</td>\n",
       "    </tr>\n",
       "  </tbody>\n",
       "</table>\n",
       "<p>5 rows × 81 columns</p>\n",
       "</div>"
      ],
      "text/plain": [
       "    Id        PID  MS SubClass MS Zoning  Lot Frontage  Lot Area Street Alley  \\\n",
       "0  109  533352170           60        RL           NaN     13517   Pave   NaN   \n",
       "1  544  531379050           60        RL          43.0     11492   Pave   NaN   \n",
       "2  153  535304180           20        RL          68.0      7922   Pave   NaN   \n",
       "3  318  916386060           60        RL          73.0      9802   Pave   NaN   \n",
       "4  255  906425045           50        RL          82.0     14235   Pave   NaN   \n",
       "\n",
       "  Lot Shape Land Contour  ... Screen Porch Pool Area Pool QC Fence  \\\n",
       "0       IR1          Lvl  ...            0         0     NaN   NaN   \n",
       "1       IR1          Lvl  ...            0         0     NaN   NaN   \n",
       "2       Reg          Lvl  ...            0         0     NaN   NaN   \n",
       "3       Reg          Lvl  ...            0         0     NaN   NaN   \n",
       "4       IR1          Lvl  ...            0         0     NaN   NaN   \n",
       "\n",
       "  Misc Feature Misc Val Mo Sold Yr Sold  Sale Type  SalePrice  \n",
       "0          NaN        0       3    2010        WD      130500  \n",
       "1          NaN        0       4    2009        WD      220000  \n",
       "2          NaN        0       1    2010        WD      109000  \n",
       "3          NaN        0       4    2010        WD      174000  \n",
       "4          NaN        0       3    2010        WD      138500  \n",
       "\n",
       "[5 rows x 81 columns]"
      ]
     },
     "execution_count": 5,
     "metadata": {},
     "output_type": "execute_result"
    }
   ],
   "source": [
    "training.head()"
   ]
  },
  {
   "cell_type": "code",
   "execution_count": 6,
   "metadata": {},
   "outputs": [],
   "source": [
    "#training.info()"
   ]
  },
  {
   "cell_type": "code",
   "execution_count": 7,
   "metadata": {},
   "outputs": [
    {
     "name": "stdout",
     "output_type": "stream",
     "text": [
      "Starting with same columns?: True\n",
      "Columns same datatype?: False\n",
      "'Object' columns same in each df?: True\n"
     ]
    }
   ],
   "source": [
    "#are df formats parallel for concatenating?\n",
    "training_compare = training.drop(columns='SalePrice')\n",
    "print(f'Starting with same columns?: {training_compare.columns.equals(testing.columns)}')\n",
    "print(f'Columns same datatype?: {training_compare.dtypes.equals(testing.dtypes)}')  \n",
    "#FALSE: at first glance, many ints as floats, which is fine\n",
    "#confirm all 'objects' are same\n",
    "train_types=training_compare.select_dtypes(include = 'object').columns\n",
    "test_types=testing.select_dtypes(include = 'object').columns\n",
    "print(f\"'Object' columns same in each df?: {train_types.equals(test_types)}\")"
   ]
  },
  {
   "cell_type": "code",
   "execution_count": 8,
   "metadata": {},
   "outputs": [
    {
     "data": {
      "text/html": [
       "<div>\n",
       "<style scoped>\n",
       "    .dataframe tbody tr th:only-of-type {\n",
       "        vertical-align: middle;\n",
       "    }\n",
       "\n",
       "    .dataframe tbody tr th {\n",
       "        vertical-align: top;\n",
       "    }\n",
       "\n",
       "    .dataframe thead th {\n",
       "        text-align: right;\n",
       "    }\n",
       "</style>\n",
       "<table border=\"1\" class=\"dataframe\">\n",
       "  <thead>\n",
       "    <tr style=\"text-align: right;\">\n",
       "      <th></th>\n",
       "      <th># nulls</th>\n",
       "      <th>% null</th>\n",
       "    </tr>\n",
       "  </thead>\n",
       "  <tbody>\n",
       "    <tr>\n",
       "      <th>Pool QC</th>\n",
       "      <td>2042</td>\n",
       "      <td>0.995612</td>\n",
       "    </tr>\n",
       "    <tr>\n",
       "      <th>Misc Feature</th>\n",
       "      <td>1986</td>\n",
       "      <td>0.968308</td>\n",
       "    </tr>\n",
       "    <tr>\n",
       "      <th>Alley</th>\n",
       "      <td>1911</td>\n",
       "      <td>0.931741</td>\n",
       "    </tr>\n",
       "    <tr>\n",
       "      <th>Fence</th>\n",
       "      <td>1651</td>\n",
       "      <td>0.804973</td>\n",
       "    </tr>\n",
       "    <tr>\n",
       "      <th>Fireplace Qu</th>\n",
       "      <td>1000</td>\n",
       "      <td>0.487567</td>\n",
       "    </tr>\n",
       "    <tr>\n",
       "      <th>Lot Frontage</th>\n",
       "      <td>330</td>\n",
       "      <td>0.160897</td>\n",
       "    </tr>\n",
       "    <tr>\n",
       "      <th>Garage Finish</th>\n",
       "      <td>114</td>\n",
       "      <td>0.055583</td>\n",
       "    </tr>\n",
       "    <tr>\n",
       "      <th>Garage Cond</th>\n",
       "      <td>114</td>\n",
       "      <td>0.055583</td>\n",
       "    </tr>\n",
       "    <tr>\n",
       "      <th>Garage Qual</th>\n",
       "      <td>114</td>\n",
       "      <td>0.055583</td>\n",
       "    </tr>\n",
       "    <tr>\n",
       "      <th>Garage Yr Blt</th>\n",
       "      <td>114</td>\n",
       "      <td>0.055583</td>\n",
       "    </tr>\n",
       "    <tr>\n",
       "      <th>Garage Type</th>\n",
       "      <td>113</td>\n",
       "      <td>0.055095</td>\n",
       "    </tr>\n",
       "    <tr>\n",
       "      <th>Bsmt Exposure</th>\n",
       "      <td>58</td>\n",
       "      <td>0.028279</td>\n",
       "    </tr>\n",
       "    <tr>\n",
       "      <th>BsmtFin Type 2</th>\n",
       "      <td>56</td>\n",
       "      <td>0.027304</td>\n",
       "    </tr>\n",
       "    <tr>\n",
       "      <th>BsmtFin Type 1</th>\n",
       "      <td>55</td>\n",
       "      <td>0.026816</td>\n",
       "    </tr>\n",
       "    <tr>\n",
       "      <th>Bsmt Cond</th>\n",
       "      <td>55</td>\n",
       "      <td>0.026816</td>\n",
       "    </tr>\n",
       "    <tr>\n",
       "      <th>Bsmt Qual</th>\n",
       "      <td>55</td>\n",
       "      <td>0.026816</td>\n",
       "    </tr>\n",
       "    <tr>\n",
       "      <th>Mas Vnr Type</th>\n",
       "      <td>22</td>\n",
       "      <td>0.010726</td>\n",
       "    </tr>\n",
       "    <tr>\n",
       "      <th>Mas Vnr Area</th>\n",
       "      <td>22</td>\n",
       "      <td>0.010726</td>\n",
       "    </tr>\n",
       "    <tr>\n",
       "      <th>Bsmt Half Bath</th>\n",
       "      <td>2</td>\n",
       "      <td>0.000975</td>\n",
       "    </tr>\n",
       "    <tr>\n",
       "      <th>Bsmt Full Bath</th>\n",
       "      <td>2</td>\n",
       "      <td>0.000975</td>\n",
       "    </tr>\n",
       "    <tr>\n",
       "      <th>Garage Cars</th>\n",
       "      <td>1</td>\n",
       "      <td>0.000488</td>\n",
       "    </tr>\n",
       "    <tr>\n",
       "      <th>Garage Area</th>\n",
       "      <td>1</td>\n",
       "      <td>0.000488</td>\n",
       "    </tr>\n",
       "    <tr>\n",
       "      <th>Bsmt Unf SF</th>\n",
       "      <td>1</td>\n",
       "      <td>0.000488</td>\n",
       "    </tr>\n",
       "    <tr>\n",
       "      <th>BsmtFin SF 2</th>\n",
       "      <td>1</td>\n",
       "      <td>0.000488</td>\n",
       "    </tr>\n",
       "    <tr>\n",
       "      <th>Total Bsmt SF</th>\n",
       "      <td>1</td>\n",
       "      <td>0.000488</td>\n",
       "    </tr>\n",
       "    <tr>\n",
       "      <th>BsmtFin SF 1</th>\n",
       "      <td>1</td>\n",
       "      <td>0.000488</td>\n",
       "    </tr>\n",
       "    <tr>\n",
       "      <th>Overall Cond</th>\n",
       "      <td>0</td>\n",
       "      <td>0.000000</td>\n",
       "    </tr>\n",
       "  </tbody>\n",
       "</table>\n",
       "</div>"
      ],
      "text/plain": [
       "                # nulls    % null\n",
       "Pool QC            2042  0.995612\n",
       "Misc Feature       1986  0.968308\n",
       "Alley              1911  0.931741\n",
       "Fence              1651  0.804973\n",
       "Fireplace Qu       1000  0.487567\n",
       "Lot Frontage        330  0.160897\n",
       "Garage Finish       114  0.055583\n",
       "Garage Cond         114  0.055583\n",
       "Garage Qual         114  0.055583\n",
       "Garage Yr Blt       114  0.055583\n",
       "Garage Type         113  0.055095\n",
       "Bsmt Exposure        58  0.028279\n",
       "BsmtFin Type 2       56  0.027304\n",
       "BsmtFin Type 1       55  0.026816\n",
       "Bsmt Cond            55  0.026816\n",
       "Bsmt Qual            55  0.026816\n",
       "Mas Vnr Type         22  0.010726\n",
       "Mas Vnr Area         22  0.010726\n",
       "Bsmt Half Bath        2  0.000975\n",
       "Bsmt Full Bath        2  0.000975\n",
       "Garage Cars           1  0.000488\n",
       "Garage Area           1  0.000488\n",
       "Bsmt Unf SF           1  0.000488\n",
       "BsmtFin SF 2          1  0.000488\n",
       "Total Bsmt SF         1  0.000488\n",
       "BsmtFin SF 1          1  0.000488\n",
       "Overall Cond          0  0.000000"
      ]
     },
     "execution_count": 8,
     "metadata": {},
     "output_type": "execute_result"
    }
   ],
   "source": [
    "#nulls and what % of factor, code from Source 2\n",
    "nulls= training.isnull().sum().sort_values(ascending=False)\n",
    "perc= (training.isnull().sum()/training.isnull().count()).sort_values(ascending=False)\n",
    "missing_train= pd.concat([nulls, perc],axis=1, keys=['# nulls', '% null'])\n",
    "missing_train.head(27)"
   ]
  },
  {
   "cell_type": "markdown",
   "metadata": {},
   "source": [
    "# Pre-pre processing\n",
    "A. snakecase that nonsense\n",
    "\n",
    "B. Per the 'Special Notes' in the data dictionary, there are true outliers in the data that are evident upon graphing Saleprice and 'Gr Liv Area'.  The provider of the dataset recommends removing any houses with more than 4000 sqft from the data.  Perform this filter before merging with testing data.\n",
    "\n",
    "C. Note in the above table that over 90% of the Pool QC, Misc Features, and Alley columns are null / empty.  This likely indicates no pool, misc feature, or alley, but either way these columns are not particularly informative.  Consider dropping in future."
   ]
  },
  {
   "cell_type": "code",
   "execution_count": 9,
   "metadata": {},
   "outputs": [],
   "source": [
    "#snakecase columns\n",
    "training.columns = training.columns.str.lower().str.replace(\" \",\"_\")\n",
    "testing.columns = testing.columns.str.lower().str.replace(\" \",\"_\")"
   ]
  },
  {
   "cell_type": "code",
   "execution_count": 10,
   "metadata": {},
   "outputs": [],
   "source": [
    "#ala Gwen\n",
    "def convert_snake_case(label, capitalize_first=True, capitalize_all=False):\n",
    "    if capitalize_all:\n",
    "        return ' '.join([word.capitalize() for word in label.split('_')])\n",
    "    elif capitalize_first:\n",
    "        return ' '.join([word.capitalize() if i == 0 else word for i, word in enumerate(label.split('_'))])\n",
    "    else:\n",
    "        return ' '.join([word for word in label.split('_')])"
   ]
  },
  {
   "cell_type": "code",
   "execution_count": 11,
   "metadata": {
    "scrolled": false
   },
   "outputs": [
    {
     "data": {
      "image/png": "[encoded data removed]",
      "text/plain": [
       "<Figure size 576x432 with 1 Axes>"
      ]
     },
     "metadata": {
      "needs_background": "light"
     },
     "output_type": "display_data"
    }
   ],
   "source": [
    "#look at those weirdos out there on the right\n",
    "plt.figure(figsize=(8,6))\n",
    "sns.scatterplot(x='gr_liv_area',y='saleprice',data=training);\n",
    "plt.xlabel('Above ground living area (sqft)')\n",
    "plt.ylabel('Sale price ($USD)')\n",
    "plt.title('Outlier detection in saleprice', size=16);"
   ]
  },
  {
   "cell_type": "code",
   "execution_count": 12,
   "metadata": {},
   "outputs": [],
   "source": [
    "#remove outliers by implementing recommended 4000sqft threshold\n",
    "training = training[training['gr_liv_area']<4000]"
   ]
  },
  {
   "cell_type": "markdown",
   "metadata": {},
   "source": [
    "# Pre-processing\n",
    "## Merge train and test for synchronized cleaning\n",
    "Separate saleprice (y_train) so train and test are the same shape."
   ]
  },
  {
   "cell_type": "code",
   "execution_count": 13,
   "metadata": {},
   "outputs": [],
   "source": [
    "#add identifier\n",
    "training['is_train'] = 1\n",
    "testing['is_train'] = 0"
   ]
  },
  {
   "cell_type": "code",
   "execution_count": 14,
   "metadata": {},
   "outputs": [
    {
     "data": {
      "text/html": [
       "<div>\n",
       "<style scoped>\n",
       "    .dataframe tbody tr th:only-of-type {\n",
       "        vertical-align: middle;\n",
       "    }\n",
       "\n",
       "    .dataframe tbody tr th {\n",
       "        vertical-align: top;\n",
       "    }\n",
       "\n",
       "    .dataframe thead th {\n",
       "        text-align: right;\n",
       "    }\n",
       "</style>\n",
       "<table border=\"1\" class=\"dataframe\">\n",
       "  <thead>\n",
       "    <tr style=\"text-align: right;\">\n",
       "      <th></th>\n",
       "      <th>id</th>\n",
       "      <th>pid</th>\n",
       "      <th>ms_subclass</th>\n",
       "      <th>ms_zoning</th>\n",
       "      <th>lot_frontage</th>\n",
       "      <th>lot_area</th>\n",
       "      <th>street</th>\n",
       "      <th>alley</th>\n",
       "      <th>lot_shape</th>\n",
       "      <th>land_contour</th>\n",
       "      <th>...</th>\n",
       "      <th>pool_area</th>\n",
       "      <th>pool_qc</th>\n",
       "      <th>fence</th>\n",
       "      <th>misc_feature</th>\n",
       "      <th>misc_val</th>\n",
       "      <th>mo_sold</th>\n",
       "      <th>yr_sold</th>\n",
       "      <th>sale_type</th>\n",
       "      <th>saleprice</th>\n",
       "      <th>is_train</th>\n",
       "    </tr>\n",
       "  </thead>\n",
       "  <tbody>\n",
       "    <tr>\n",
       "      <th>0</th>\n",
       "      <td>109</td>\n",
       "      <td>533352170</td>\n",
       "      <td>60</td>\n",
       "      <td>RL</td>\n",
       "      <td>NaN</td>\n",
       "      <td>13517</td>\n",
       "      <td>Pave</td>\n",
       "      <td>NaN</td>\n",
       "      <td>IR1</td>\n",
       "      <td>Lvl</td>\n",
       "      <td>...</td>\n",
       "      <td>0</td>\n",
       "      <td>NaN</td>\n",
       "      <td>NaN</td>\n",
       "      <td>NaN</td>\n",
       "      <td>0</td>\n",
       "      <td>3</td>\n",
       "      <td>2010</td>\n",
       "      <td>WD</td>\n",
       "      <td>130500</td>\n",
       "      <td>1</td>\n",
       "    </tr>\n",
       "    <tr>\n",
       "      <th>1</th>\n",
       "      <td>544</td>\n",
       "      <td>531379050</td>\n",
       "      <td>60</td>\n",
       "      <td>RL</td>\n",
       "      <td>43.0</td>\n",
       "      <td>11492</td>\n",
       "      <td>Pave</td>\n",
       "      <td>NaN</td>\n",
       "      <td>IR1</td>\n",
       "      <td>Lvl</td>\n",
       "      <td>...</td>\n",
       "      <td>0</td>\n",
       "      <td>NaN</td>\n",
       "      <td>NaN</td>\n",
       "      <td>NaN</td>\n",
       "      <td>0</td>\n",
       "      <td>4</td>\n",
       "      <td>2009</td>\n",
       "      <td>WD</td>\n",
       "      <td>220000</td>\n",
       "      <td>1</td>\n",
       "    </tr>\n",
       "  </tbody>\n",
       "</table>\n",
       "<p>2 rows × 82 columns</p>\n",
       "</div>"
      ],
      "text/plain": [
       "    id        pid  ms_subclass ms_zoning  lot_frontage  lot_area street alley  \\\n",
       "0  109  533352170           60        RL           NaN     13517   Pave   NaN   \n",
       "1  544  531379050           60        RL          43.0     11492   Pave   NaN   \n",
       "\n",
       "  lot_shape land_contour  ... pool_area pool_qc fence misc_feature misc_val  \\\n",
       "0       IR1          Lvl  ...         0     NaN   NaN          NaN        0   \n",
       "1       IR1          Lvl  ...         0     NaN   NaN          NaN        0   \n",
       "\n",
       "  mo_sold yr_sold sale_type  saleprice  is_train  \n",
       "0       3    2010       WD      130500         1  \n",
       "1       4    2009       WD      220000         1  \n",
       "\n",
       "[2 rows x 82 columns]"
      ]
     },
     "execution_count": 14,
     "metadata": {},
     "output_type": "execute_result"
    }
   ],
   "source": [
    "training.head(2)"
   ]
  },
  {
   "cell_type": "code",
   "execution_count": 15,
   "metadata": {},
   "outputs": [
    {
     "data": {
      "text/html": [
       "<div>\n",
       "<style scoped>\n",
       "    .dataframe tbody tr th:only-of-type {\n",
       "        vertical-align: middle;\n",
       "    }\n",
       "\n",
       "    .dataframe tbody tr th {\n",
       "        vertical-align: top;\n",
       "    }\n",
       "\n",
       "    .dataframe thead th {\n",
       "        text-align: right;\n",
       "    }\n",
       "</style>\n",
       "<table border=\"1\" class=\"dataframe\">\n",
       "  <thead>\n",
       "    <tr style=\"text-align: right;\">\n",
       "      <th></th>\n",
       "      <th>id</th>\n",
       "      <th>pid</th>\n",
       "      <th>ms_subclass</th>\n",
       "      <th>ms_zoning</th>\n",
       "      <th>lot_frontage</th>\n",
       "      <th>lot_area</th>\n",
       "      <th>street</th>\n",
       "      <th>alley</th>\n",
       "      <th>lot_shape</th>\n",
       "      <th>land_contour</th>\n",
       "      <th>...</th>\n",
       "      <th>screen_porch</th>\n",
       "      <th>pool_area</th>\n",
       "      <th>pool_qc</th>\n",
       "      <th>fence</th>\n",
       "      <th>misc_feature</th>\n",
       "      <th>misc_val</th>\n",
       "      <th>mo_sold</th>\n",
       "      <th>yr_sold</th>\n",
       "      <th>sale_type</th>\n",
       "      <th>is_train</th>\n",
       "    </tr>\n",
       "  </thead>\n",
       "  <tbody>\n",
       "    <tr>\n",
       "      <th>0</th>\n",
       "      <td>2658</td>\n",
       "      <td>902301120</td>\n",
       "      <td>190</td>\n",
       "      <td>RM</td>\n",
       "      <td>69.0</td>\n",
       "      <td>9142</td>\n",
       "      <td>Pave</td>\n",
       "      <td>Grvl</td>\n",
       "      <td>Reg</td>\n",
       "      <td>Lvl</td>\n",
       "      <td>...</td>\n",
       "      <td>0</td>\n",
       "      <td>0</td>\n",
       "      <td>NaN</td>\n",
       "      <td>NaN</td>\n",
       "      <td>NaN</td>\n",
       "      <td>0</td>\n",
       "      <td>4</td>\n",
       "      <td>2006</td>\n",
       "      <td>WD</td>\n",
       "      <td>0</td>\n",
       "    </tr>\n",
       "    <tr>\n",
       "      <th>1</th>\n",
       "      <td>2718</td>\n",
       "      <td>905108090</td>\n",
       "      <td>90</td>\n",
       "      <td>RL</td>\n",
       "      <td>NaN</td>\n",
       "      <td>9662</td>\n",
       "      <td>Pave</td>\n",
       "      <td>NaN</td>\n",
       "      <td>IR1</td>\n",
       "      <td>Lvl</td>\n",
       "      <td>...</td>\n",
       "      <td>0</td>\n",
       "      <td>0</td>\n",
       "      <td>NaN</td>\n",
       "      <td>NaN</td>\n",
       "      <td>NaN</td>\n",
       "      <td>0</td>\n",
       "      <td>8</td>\n",
       "      <td>2006</td>\n",
       "      <td>WD</td>\n",
       "      <td>0</td>\n",
       "    </tr>\n",
       "  </tbody>\n",
       "</table>\n",
       "<p>2 rows × 81 columns</p>\n",
       "</div>"
      ],
      "text/plain": [
       "     id        pid  ms_subclass ms_zoning  lot_frontage  lot_area street  \\\n",
       "0  2658  902301120          190        RM          69.0      9142   Pave   \n",
       "1  2718  905108090           90        RL           NaN      9662   Pave   \n",
       "\n",
       "  alley lot_shape land_contour  ... screen_porch pool_area pool_qc fence  \\\n",
       "0  Grvl       Reg          Lvl  ...            0         0     NaN   NaN   \n",
       "1   NaN       IR1          Lvl  ...            0         0     NaN   NaN   \n",
       "\n",
       "  misc_feature misc_val mo_sold yr_sold  sale_type  is_train  \n",
       "0          NaN        0       4    2006        WD          0  \n",
       "1          NaN        0       8    2006        WD          0  \n",
       "\n",
       "[2 rows x 81 columns]"
      ]
     },
     "execution_count": 15,
     "metadata": {},
     "output_type": "execute_result"
    }
   ],
   "source": [
    "testing.head(2)"
   ]
  },
  {
   "cell_type": "code",
   "execution_count": 16,
   "metadata": {},
   "outputs": [],
   "source": [
    "#merge all but saleprice\n",
    "allofit = pd.concat((training.drop(columns='saleprice'), testing))"
   ]
  },
  {
   "cell_type": "code",
   "execution_count": 17,
   "metadata": {},
   "outputs": [],
   "source": [
    "#allofit.head()"
   ]
  },
  {
   "cell_type": "markdown",
   "metadata": {},
   "source": [
    "### False Nulls\n",
    "According to the data dictionary, 'NA' can be used to indicate that a particular property attribute does not exist, amidst an otherwise ordinal list of ranking that attribute.  For instance, 'Rating of basement finished area' is on a scale of Unfinished up to Good Living Quarters, with NA indicating that there is no basement.  In this scenario, NA can = 0, Unfinished = 1, and Good Living Quarters = max.\n",
    "\n",
    "NA is defined as its own level of ordinal rank (0) in the case of 12 variables.  Many of these share the same 6-level scale (NA, Po, Fa, TA, Gd, Ex).  They also share this scale with other ordinal variables in the dataset that do not contain (or define) NA.  I will convert all of these to a numeric scale together, with Na=0 to Ex=5.  \n",
    "\n",
    "The Pool variable has all of these levels except for 'Po'; I will still include it in this same scale and just record 0 entries at (Po:1).  Apparently in Ames, any pool is already considered 'Fair', but as a water sport athlete I can tell you there are DEFINITELY 'Poor' pools and Ames county is ignoring a valuable metric.\n",
    "\n",
    "---\n",
    "### Not so false nulls\n",
    "\n",
    "\n",
    "Other vars in the data dictionary were NOT stipulated to have meaningful NaNs.  I initially ran them through the same function to convert since there WERE no nulls, so it didn't matter that they were getting replaced with 0.  However, if the TEST data has nulls there, then I'm potentially messing with distribution.  For these vars (lot shape, utilities, land slope, electrical, functional), replace (hypothetical) nulls with the median of the training data."
   ]
  },
  {
   "cell_type": "code",
   "execution_count": 18,
   "metadata": {},
   "outputs": [],
   "source": [
    "#cols needing transform from (ordinal) object to numeric\n",
    "nans_to_zeros = ['bsmt_qual','bsmt_cond', 'fireplace_qu','garage_qual', 'garage_cond',\n",
    "                 'kitchen_qual', 'exter_qual','exter_cond','heating_qc','garage_finish', \n",
    "                 'bsmt_exposure','bsmtfin_type_1','bsmtfin_type_2', 'pool_qc', 'fence']\n",
    "\n",
    "nans_to_median = ['lot_shape','utilities','land_slope', 'electrical','functional']"
   ]
  },
  {
   "cell_type": "code",
   "execution_count": 19,
   "metadata": {},
   "outputs": [],
   "source": [
    "to_num_masterdict={'Po':1, 'Fa':2, 'TA':3, 'Gd':4, 'Ex':5, #nans_to_zeros cols.\n",
    "'Unf':1, 'RFn':2, 'Fin':3, #garage_finish\n",
    "'MnWw':1, 'GdWo':2, 'MnPrv':3, 'GdPrv':4, #fence\n",
    "'No':1, 'Mn':2, 'Av':3, 'Gd':4,#bsmt_exposure\n",
    "'Unf':1, 'LwQ':2,'Rec':3, 'BLQ':4, 'ALQ':5, 'GLQ':6, #bsmtfin_type_1 and 2\n",
    "'IR3':1, 'IR2':2, 'IR1':3, 'Reg':4, #lot_shape\n",
    "'ELO':1, 'NoSeWa':2, 'NoSewr':3, 'AllPub':4, #utilities\n",
    "'Sev':1, 'Mod':2, 'Gtl':3, #land_slope\n",
    "'Sal':0, 'Sev':1, 'Maj2':2, 'Maj1':3, 'Mod':4, 'Min2':5, 'Min1':6, 'Typ':7, #functional\n",
    "'Mix':1, 'FuseP':2, 'FuseF':3, 'FuseA':4, 'SBrkr':5} #electrical"
   ]
  },
  {
   "cell_type": "code",
   "execution_count": 20,
   "metadata": {},
   "outputs": [],
   "source": [
    "#conversion function\n",
    "def to_nums_fillna0(df, targetcols):\n",
    "    for i in targetcols:\n",
    "        df[i] = df[i].map(to_num_masterdict)\n",
    "        df[i] = df[i].fillna(0) #no need inplace=T because assigning with =\n",
    "        #print(df[targetcols].value_counts()) #this line to check work, from source1"
   ]
  },
  {
   "cell_type": "code",
   "execution_count": 21,
   "metadata": {},
   "outputs": [],
   "source": [
    "to_nums_fillna0(allofit, nans_to_zeros)"
   ]
  },
  {
   "cell_type": "code",
   "execution_count": 22,
   "metadata": {},
   "outputs": [],
   "source": [
    "def to_nums_fillna_median(df, targetcols):\n",
    "    for i in targetcols:\n",
    "        df[i] = df[i].map(to_num_masterdict)\n",
    "        df[i] = df[i].fillna(allofit.loc[allofit['is_train']==1][i].median())"
   ]
  },
  {
   "cell_type": "code",
   "execution_count": 23,
   "metadata": {},
   "outputs": [],
   "source": [
    "to_nums_fillna_median(allofit, nans_to_median)"
   ]
  },
  {
   "cell_type": "code",
   "execution_count": 24,
   "metadata": {},
   "outputs": [],
   "source": [
    "#allofit[nans_to_zeros].dtypes  #check now numeric - yes"
   ]
  },
  {
   "cell_type": "code",
   "execution_count": 25,
   "metadata": {},
   "outputs": [],
   "source": [
    "#allofit[nans_to_median].dtypes  #check now numeric - yes\n",
    "#allofit[nans_to_median].isnull().sum() #no NaNs"
   ]
  },
  {
   "cell_type": "code",
   "execution_count": 26,
   "metadata": {},
   "outputs": [],
   "source": [
    "#allofit.loc[allofit['is_train']==1].isnull().sum().sort_values(ascending=False).head(17)"
   ]
  },
  {
   "cell_type": "markdown",
   "metadata": {},
   "source": [
    "## Nominal variables\n",
    "Nominal variables with a NA definition, according to the data dictionary, are:  \n",
    "- Alley (Grvl, Pave, NA)\n",
    "- Garage Type (2Types, Attchd, Basment, BuiltIn, CarPort, Detchd, NA)\n",
    "- Misc Feature (Elev, Gar2, Othr, Shed, TenC, NA)\n",
    "- Masonry Veneer Type - not defined as such, but NaNs assumed to be 'no veneer', esp since they all correspond with NaNs for veneer square feet (training data only)\n",
    "---\n",
    "#### Remember:\n",
    "Alley and Misc Feature initially had over 92% null values (training data only).  They are in consideration for dropping altogether.  For now, clean."
   ]
  },
  {
   "cell_type": "code",
   "execution_count": 27,
   "metadata": {},
   "outputs": [],
   "source": [
    "def nans2none_nominal(df, targetcols):\n",
    "    for i in targetcols:\n",
    "        df[i] = df[i].fillna('None')\n",
    "        \n",
    "nominal_nans = ['alley','misc_feature','garage_type','mas_vnr_type']\n",
    "nans2none_nominal(allofit, nominal_nans)"
   ]
  },
  {
   "cell_type": "code",
   "execution_count": 28,
   "metadata": {},
   "outputs": [],
   "source": [
    "#allofit.loc[allofit['is_train']==1].isnull().sum().sort_values(ascending=False).head(17)"
   ]
  },
  {
   "cell_type": "markdown",
   "metadata": {},
   "source": [
    "## Remaining nulls:\n",
    "* Lot Frontage: is continuous linear feet of street connected to property.  Fillna's with median.\n",
    "\n",
    "* Garage Yr Built: could fill nas with year of property build or remodel, but no novel information there.  There are six other variables about garages that will conserve the important features (existence, sqft, finish).  Drop Garage yr built; that info will be conserved and it's likely just causing collinearity.\n",
    "\n",
    "* Mas Vnr Area: all corresponded with NaN for veneer type, so assumed no veneer.  Fill with 0s.\n",
    "\n",
    "* Like Masonry Veneer, the single digit basement and garage nulls all occur in listings that have no basement or garage, respectively.  Replace with 0s."
   ]
  },
  {
   "cell_type": "code",
   "execution_count": 29,
   "metadata": {},
   "outputs": [],
   "source": [
    "allofit['lot_frontage'] = allofit['lot_frontage'].fillna(allofit.loc[allofit['is_train']==1]['lot_frontage'].median())"
   ]
  },
  {
   "cell_type": "code",
   "execution_count": 30,
   "metadata": {},
   "outputs": [],
   "source": [
    "allofit.drop(columns='garage_yr_blt', inplace=True)"
   ]
  },
  {
   "cell_type": "code",
   "execution_count": 31,
   "metadata": {},
   "outputs": [],
   "source": [
    "continuous_fill_0 = ['mas_vnr_area','bsmt_half_bath','bsmt_full_bath','bsmtfin_sf_1',\n",
    "                         'bsmtfin_sf_2','total_bsmt_sf','bsmt_unf_sf','garage_cars','garage_area']\n",
    "\n",
    "allofit[continuous_fill_0] = allofit[continuous_fill_0].fillna(0)"
   ]
  },
  {
   "cell_type": "code",
   "execution_count": 32,
   "metadata": {},
   "outputs": [
    {
     "data": {
      "text/html": [
       "<div>\n",
       "<style scoped>\n",
       "    .dataframe tbody tr th:only-of-type {\n",
       "        vertical-align: middle;\n",
       "    }\n",
       "\n",
       "    .dataframe tbody tr th {\n",
       "        vertical-align: top;\n",
       "    }\n",
       "\n",
       "    .dataframe thead th {\n",
       "        text-align: right;\n",
       "    }\n",
       "</style>\n",
       "<table border=\"1\" class=\"dataframe\">\n",
       "  <thead>\n",
       "    <tr style=\"text-align: right;\">\n",
       "      <th></th>\n",
       "      <th># nulls</th>\n",
       "      <th>% null</th>\n",
       "    </tr>\n",
       "  </thead>\n",
       "  <tbody>\n",
       "    <tr>\n",
       "      <th>is_train</th>\n",
       "      <td>0</td>\n",
       "      <td>0.0</td>\n",
       "    </tr>\n",
       "    <tr>\n",
       "      <th>sale_type</th>\n",
       "      <td>0</td>\n",
       "      <td>0.0</td>\n",
       "    </tr>\n",
       "    <tr>\n",
       "      <th>year_remod/add</th>\n",
       "      <td>0</td>\n",
       "      <td>0.0</td>\n",
       "    </tr>\n",
       "    <tr>\n",
       "      <th>roof_style</th>\n",
       "      <td>0</td>\n",
       "      <td>0.0</td>\n",
       "    </tr>\n",
       "    <tr>\n",
       "      <th>roof_matl</th>\n",
       "      <td>0</td>\n",
       "      <td>0.0</td>\n",
       "    </tr>\n",
       "  </tbody>\n",
       "</table>\n",
       "</div>"
      ],
      "text/plain": [
       "                # nulls  % null\n",
       "is_train              0     0.0\n",
       "sale_type             0     0.0\n",
       "year_remod/add        0     0.0\n",
       "roof_style            0     0.0\n",
       "roof_matl             0     0.0"
      ]
     },
     "execution_count": 32,
     "metadata": {},
     "output_type": "execute_result"
    }
   ],
   "source": [
    "#source 2\n",
    "nulls= allofit.isnull().sum().sort_values(ascending=False)\n",
    "perc= (allofit.isnull().sum()/allofit.isnull().count()).sort_values(ascending=False)\n",
    "missing_data= pd.concat([nulls, perc],axis=1, keys=['# nulls', '% null'])\n",
    "missing_data.head()"
   ]
  },
  {
   "cell_type": "markdown",
   "metadata": {},
   "source": [
    "## Identify binary categories and reformat as numeric\n",
    "* 'Central air' just has Y and N entries.  Change to 1,0 (essentially same as dummifying + drop_first).  \n",
    "* 'Paved drive' has Yes, No, and Partial entries.  To binarize, will include Partial into Yes.  \n",
    "* 'Masonry veneer type' is awfully specific.  Let's reduce to has (1) or has not (0) veneer."
   ]
  },
  {
   "cell_type": "code",
   "execution_count": 33,
   "metadata": {},
   "outputs": [],
   "source": [
    "allofit['central_air'] = allofit['central_air'].map({'Y':1, 'N':0})\n",
    "allofit['paved_drive'] = allofit['paved_drive'].map({'Y':1, 'P':1, 'N':0})\n",
    "allofit['mas_vnr_type'] = allofit['mas_vnr_type'].map({'BrkFace':1, 'Stone':1, 'BrkCmn':1,\n",
    "                                                'CBlock':1, 'None':0})"
   ]
  },
  {
   "cell_type": "markdown",
   "metadata": {},
   "source": [
    "## Stretch ordinal scales\n",
    "Source Gwen: take the numerical variables that represent discrete scales and square the values, forcing the regression to reward higher scores more than a stepwise 0-5 scale.\n",
    "\n",
    "* Variables in this list include everything transformed in the above category-to-numeric functions, + Overall Quality and Overall Condition"
   ]
  },
  {
   "cell_type": "code",
   "execution_count": 34,
   "metadata": {},
   "outputs": [],
   "source": [
    "#numeric vars on discrete scales\n",
    "discretios = ['bsmt_qual','bsmt_cond', 'fireplace_qu','garage_qual', 'garage_cond',\n",
    "              'kitchen_qual', 'exter_qual','exter_cond','heating_qc','garage_finish', \n",
    "              'bsmt_exposure','bsmtfin_type_1','bsmtfin_type_2', 'pool_qc', 'fence', #nans_to_zeros\n",
    "              'lot_shape','utilities','land_slope', 'electrical','functional', #nans_to_median\n",
    "              'overall_qual', 'overall_cond'] #additional"
   ]
  },
  {
   "cell_type": "code",
   "execution_count": 35,
   "metadata": {},
   "outputs": [],
   "source": [
    "allofit[discretios] = allofit[discretios].apply(lambda x: x*x)"
   ]
  },
  {
   "cell_type": "code",
   "execution_count": 36,
   "metadata": {},
   "outputs": [],
   "source": [
    "#export for future reference (ie presentation)\n",
    "notsurewhy = pd.concat([allofit.loc[allofit['is_train']==1], training['saleprice']], axis=1)\n",
    "thisorder = pd.concat([notsurewhy, allofit.loc[allofit['is_train']==0]], axis=0)\n",
    "\n",
    "notsurewhy.to_csv('./datasets/training_cleaned_nodummies.csv') #YES ordinal scales stretched\n",
    "thisorder.to_csv('./datasets/merged_data_cleaned_nodummies.csv') #YES ordinal scales stretched"
   ]
  },
  {
   "cell_type": "markdown",
   "metadata": {},
   "source": [
    "## Trim the fat*\n",
    "<details> <summary>\n",
    "*Edit: this expand-o cell was not revisited for the kaggle modeling performed below.  The info here was used to guide culling features for the presentation problem statement.  Leaving in notebook for reference. </summary>\n",
    "\n",
    "No action here for now.  After investigating correlation and running some base models, revisit here to drop columns for future models.  On the docket:\n",
    "- Alley, Pool QC: >90% 0 values\n",
    "- Misc Feature: >90% 0's, and Misc Val still exists\n",
    "- PID: irrelevant to prediction\n",
    "- Masonry Veneer Area or Type: drop one or the other\n",
    "- Basement Finish Type 2, sqft 2, unfinished sqft: excessive basement metrics\n",
    "- Fireplaces: 'Fireplace Qual' already has 0 for no fireplace so is an indicator and scale\n",
    "- Garage condition: collinear with garage quality\n",
    "- 3 season porch, Screen porch: excessive porch metrics </details>"
   ]
  },
  {
   "cell_type": "markdown",
   "metadata": {},
   "source": [
    "## Dummify categorical vars: Drop_first = False\n",
    "#### source 3, 4\n",
    "I thought I'd be expected to pick the important ones through some research or instinct, but kaggle practice seems to be DUMMIFY EVERYTHING.  I'm for it. Let's go.\n",
    "\n",
    "Drop_first = False or else you create a weird hypothetical 'reference' property comprising the features of all the reference columns.  Then your correlations are all in reference to that frankenlisting."
   ]
  },
  {
   "cell_type": "code",
   "execution_count": 37,
   "metadata": {},
   "outputs": [],
   "source": [
    "#separate numerical and categorical vars\n",
    "cats = allofit.select_dtypes(include= ['object']).columns\n",
    "nums = allofit.select_dtypes(exclude= ['object']).columns\n",
    "all_cats = allofit[cats]\n",
    "all_nums = allofit[nums]"
   ]
  },
  {
   "cell_type": "code",
   "execution_count": 38,
   "metadata": {},
   "outputs": [],
   "source": [
    "#all_cats.head()"
   ]
  },
  {
   "cell_type": "code",
   "execution_count": 39,
   "metadata": {},
   "outputs": [],
   "source": [
    "all_cats = pd.get_dummies(all_cats, drop_first=False)"
   ]
  },
  {
   "cell_type": "code",
   "execution_count": 40,
   "metadata": {},
   "outputs": [],
   "source": [
    "#remerge with numericals - NOT transformed for now\n",
    "allofit_dum = pd.concat([all_nums, all_cats], axis=1)"
   ]
  },
  {
   "cell_type": "code",
   "execution_count": 41,
   "metadata": {},
   "outputs": [],
   "source": [
    "allofit_dum.shape #combined train/test data + dummies of categories, clean\n",
    "allofit_basic_clean = allofit_dum.copy()"
   ]
  },
  {
   "cell_type": "code",
   "execution_count": 42,
   "metadata": {},
   "outputs": [],
   "source": [
    "#export for future reference (ie presentation)\n",
    "allofit_basic_clean.to_csv('./datasets/datasets_ignore/merged_data_clean_dummies.csv')"
   ]
  },
  {
   "cell_type": "markdown",
   "metadata": {},
   "source": [
    "## Log transform target: saleprice\n",
    "This makes the features more normal, ala the before and after histograms below.  \"Taking logs means that errors in predicting expensive houses and cheap houses will affect the result equally. (source 3).\"  Log transformation should be used on highly skewed distributions to make outliers less influential, and make patterns more interpretable.\n",
    "\n",
    "#### Merge transformed saleprice with just the cleaned training set for correlation analysis"
   ]
  },
  {
   "cell_type": "code",
   "execution_count": 43,
   "metadata": {},
   "outputs": [
    {
     "data": {
      "image/png": "[encoded data removed]",
      "text/plain": [
       "<Figure size 720x360 with 2 Axes>"
      ]
     },
     "metadata": {
      "needs_background": "light"
     },
     "output_type": "display_data"
    }
   ],
   "source": [
    "plt.figure(figsize=(10,5))\n",
    "ax1 = plt.subplot(1,2,1)\n",
    "ax1.set_title('Distrib of saleprice, raw')\n",
    "ax1.hist(training['saleprice'], color = 'darkblue', ec='orange');\n",
    "\n",
    "ax2 = plt.subplot(1,2,2)\n",
    "ax2.set_title('Distrib of saleprice, log transform')\n",
    "ax2.hist(np.log1p(training['saleprice']),color='darkblue', ec='orange');"
   ]
  },
  {
   "cell_type": "code",
   "execution_count": 44,
   "metadata": {},
   "outputs": [],
   "source": [
    "#log1p method used in source 3 and I used here not realizing it was different than log.\n",
    "#must use np.expm1 to exponentiate\n",
    "#didn't bite me in the ass here bc no coefficient interpretation \n",
    "#but caused issues in analysis for presentation\n",
    "y = np.log1p(training['saleprice'])"
   ]
  },
  {
   "cell_type": "markdown",
   "metadata": {},
   "source": [
    "# RESPLIT TRAIN AND TEST"
   ]
  },
  {
   "cell_type": "code",
   "execution_count": 45,
   "metadata": {},
   "outputs": [],
   "source": [
    "training_dum = pd.concat([allofit_dum.loc[allofit_dum['is_train']==1],y], axis=1)\n",
    "testing_clean = allofit_dum.loc[allofit_dum['is_train'] != 1]"
   ]
  },
  {
   "cell_type": "code",
   "execution_count": 46,
   "metadata": {
    "scrolled": true
   },
   "outputs": [],
   "source": [
    "# print(training_dum.shape)\n",
    "# training_dum.head()\n",
    "# testing_clean.shape\n",
    "# training_dum.isnull().sum().sort_values(ascending=False)\n",
    "# testing_clean.isnull().sum().sort_values(ascending=False) #zeros for days"
   ]
  },
  {
   "cell_type": "markdown",
   "metadata": {},
   "source": [
    "## Correlation\n",
    "Now that things are clean(er), let's look at correlation of numeric vars. Heatmap is overwhelming because overloaded, but can pick out heaviest hitters for saleprice.\n",
    "\n",
    "My first approach would be to select the most strongly correlated variables, and pare them down further by trying to eliminate collinearity (ie garage sqft and garage car capacity are collinear, drop one, or combine). Looking ahead it seems like Lasso and Ridge approaches specifically address multicollinearity and parsimony, likely with much better results than I will get by thinking about real estate.\n",
    "\n",
    "For now, move forward with rudimentary MLR. Then incorporate techniques from the more instructuve kernels and upcoming lecture and see what changes."
   ]
  },
  {
   "cell_type": "code",
   "execution_count": 47,
   "metadata": {},
   "outputs": [],
   "source": [
    "# #way too busy\n",
    "# plt.figure(figsize=(16,12))\n",
    "# mask=np.zeros_like(allofit_dum.corr())\n",
    "# mask[np.triu_indices_from(mask)] = True\n",
    "# sns.heatmap(allofit_dum.corr(),cmap='coolwarm', annot=False,mask=mask, vmin=-1, vmax=1);"
   ]
  },
  {
   "cell_type": "code",
   "execution_count": 48,
   "metadata": {},
   "outputs": [
    {
     "data": {
      "text/html": [
       "<div>\n",
       "<style scoped>\n",
       "    .dataframe tbody tr th:only-of-type {\n",
       "        vertical-align: middle;\n",
       "    }\n",
       "\n",
       "    .dataframe tbody tr th {\n",
       "        vertical-align: top;\n",
       "    }\n",
       "\n",
       "    .dataframe thead th {\n",
       "        text-align: right;\n",
       "    }\n",
       "</style>\n",
       "<table border=\"1\" class=\"dataframe\">\n",
       "  <thead>\n",
       "    <tr style=\"text-align: right;\">\n",
       "      <th></th>\n",
       "      <th>saleprice</th>\n",
       "    </tr>\n",
       "  </thead>\n",
       "  <tbody>\n",
       "    <tr>\n",
       "      <th>saleprice</th>\n",
       "      <td>1.000000</td>\n",
       "    </tr>\n",
       "    <tr>\n",
       "      <th>overall_qual</th>\n",
       "      <td>0.816386</td>\n",
       "    </tr>\n",
       "    <tr>\n",
       "      <th>gr_liv_area</th>\n",
       "      <td>0.708457</td>\n",
       "    </tr>\n",
       "    <tr>\n",
       "      <th>bsmt_qual</th>\n",
       "      <td>0.694069</td>\n",
       "    </tr>\n",
       "    <tr>\n",
       "      <th>exter_qual</th>\n",
       "      <td>0.689246</td>\n",
       "    </tr>\n",
       "    <tr>\n",
       "      <th>...</th>\n",
       "      <td>...</td>\n",
       "    </tr>\n",
       "    <tr>\n",
       "      <th>exterior_1st_PreCast</th>\n",
       "      <td>NaN</td>\n",
       "    </tr>\n",
       "    <tr>\n",
       "      <th>exterior_2nd_Other</th>\n",
       "      <td>NaN</td>\n",
       "    </tr>\n",
       "    <tr>\n",
       "      <th>exterior_2nd_PreCast</th>\n",
       "      <td>NaN</td>\n",
       "    </tr>\n",
       "    <tr>\n",
       "      <th>heating_Floor</th>\n",
       "      <td>NaN</td>\n",
       "    </tr>\n",
       "    <tr>\n",
       "      <th>sale_type_VWD</th>\n",
       "      <td>NaN</td>\n",
       "    </tr>\n",
       "  </tbody>\n",
       "</table>\n",
       "<p>221 rows × 1 columns</p>\n",
       "</div>"
      ],
      "text/plain": [
       "                      saleprice\n",
       "saleprice              1.000000\n",
       "overall_qual           0.816386\n",
       "gr_liv_area            0.708457\n",
       "bsmt_qual              0.694069\n",
       "exter_qual             0.689246\n",
       "...                         ...\n",
       "exterior_1st_PreCast        NaN\n",
       "exterior_2nd_Other          NaN\n",
       "exterior_2nd_PreCast        NaN\n",
       "heating_Floor               NaN\n",
       "sale_type_VWD               NaN\n",
       "\n",
       "[221 rows x 1 columns]"
      ]
     },
     "execution_count": 48,
     "metadata": {},
     "output_type": "execute_result"
    }
   ],
   "source": [
    "training_dum.corr()[['saleprice']].sort_values('saleprice', ascending=False)\n",
    "# 38 vars with corr >.3"
   ]
  },
  {
   "cell_type": "code",
   "execution_count": 49,
   "metadata": {},
   "outputs": [],
   "source": [
    "#mod from Gwen's 'my_hist'\n",
    "def resids_hist(resids, title, x_label, y_label='Frequency', size_var = 18):\n",
    "    plt.figure(figsize=(6,10));\n",
    "    sns.displot(x = resids);\n",
    "    plt.title(title, fontsize = size_var, pad = size_var / 2);\n",
    "    plt.xlabel(x_label, fontsize = size_var, labelpad = size_var/2)\n",
    "    plt.xticks(fontsize=size_var/2, rotation=45)\n",
    "    plt.ylabel(y_label, fontsize = size_var, labelpad = size_var/2)\n",
    "    plt.yticks(fontsize=size_var/2, rotation=90);"
   ]
  },
  {
   "cell_type": "markdown",
   "metadata": {},
   "source": [
    "# Model A: Linear Regression, log-transformed y, filter by corr\n",
    "First go: include all variables with corr >= 0.3\n",
    "- does not account for collinearity\n",
    "- definitely high variance\n",
    "\n",
    "---\n",
    "Workflow:\n",
    "- Create features matrix (X), and target vector (y)\n",
    "- Train, test, split\n",
    "- DUMMY MODEL\n",
    "- Instantiate model\n",
    "- Cross validate\n",
    "- Fit and Score"
   ]
  },
  {
   "cell_type": "code",
   "execution_count": 50,
   "metadata": {},
   "outputs": [],
   "source": [
    "#index all features of .3 corr, drop target\n",
    "corrs_over3 = training_dum.corr()['saleprice'].sort_values(ascending = False).loc[training_dum.corr()['saleprice']>.3].drop('saleprice').index\n",
    "#corrs_over3   #half_bath, huh?"
   ]
  },
  {
   "cell_type": "code",
   "execution_count": 51,
   "metadata": {},
   "outputs": [],
   "source": [
    "#TTS for local validation\n",
    "X = training_dum[corrs_over3]\n",
    "y = training_dum['saleprice']\n",
    "X_train, X_test, y_train, y_test = train_test_split(X, y, test_size=.2, random_state=42)"
   ]
  },
  {
   "cell_type": "markdown",
   "metadata": {},
   "source": [
    "### Dummy model A: aka Baseline model: aka Null model\n",
    "Source for workflow and code: breakout discussion with Gwen\n",
    "\n",
    "The dummy model has RMSE of about 80,000 (training=81k, testing=78k).  And a NEGATIVE R2 score!  Baseline is straight up Wrong?  I might be exponentiating in the wrong place.  The dummy model provides a look at what a model with no actual predictive capacity looks like.  The y_preds are constant through training and testing.  Baseline_pred equals the mean of y_train.  Below I exponentiate this mean to account for the log transformation of y.  This inverse transform puts us back in interpretable units.  \n",
    "\n",
    "RMSE score of 81,114 tells us the standard deviation of the unexplained variance is +/- $80,000.  \n",
    "\n",
    "As of writing this I am #1 on the leaderboard what is going on."
   ]
  },
  {
   "cell_type": "code",
   "execution_count": 52,
   "metadata": {},
   "outputs": [],
   "source": [
    "#manual for comprehension\n",
    "#predict only mean of y_train\n",
    "## INVERSE TRANSFORM Y_TRAIN HERE\n",
    "dummy_train_preds = [np.expm1(np.mean(y_train))] * len(y_train)\n",
    "dummy_test_preds = [np.expm1(np.mean(y_train))] * len(y_test)"
   ]
  },
  {
   "cell_type": "code",
   "execution_count": 53,
   "metadata": {},
   "outputs": [
    {
     "data": {
      "text/plain": [
       "(81144.18560290833, 78123.62221931538)"
      ]
     },
     "execution_count": 53,
     "metadata": {},
     "output_type": "execute_result"
    }
   ],
   "source": [
    "#(squared = False) == RMSE\n",
    "mean_squared_error(np.expm1(y_train), dummy_train_preds, squared=False), mean_squared_error(np.expm1(y_test), dummy_test_preds, squared=False)"
   ]
  },
  {
   "cell_type": "code",
   "execution_count": 54,
   "metadata": {},
   "outputs": [],
   "source": [
    "##Now with DummyRegressor tool for future repetition"
   ]
  },
  {
   "cell_type": "code",
   "execution_count": 55,
   "metadata": {},
   "outputs": [
    {
     "data": {
      "text/plain": [
       "DummyRegressor()"
      ]
     },
     "execution_count": 55,
     "metadata": {},
     "output_type": "execute_result"
    }
   ],
   "source": [
    "dummy_model = DummyRegressor()\n",
    "dummy_model.fit(X_train, y_train)"
   ]
  },
  {
   "cell_type": "code",
   "execution_count": 56,
   "metadata": {},
   "outputs": [
    {
     "data": {
      "text/plain": [
       "(81144.1856029074, 78123.62221931462)"
      ]
     },
     "execution_count": 56,
     "metadata": {},
     "output_type": "execute_result"
    }
   ],
   "source": [
    "#rmse with mse & dummy_model.predict\n",
    "mean_squared_error(np.expm1(y_train), np.expm1(dummy_model.predict(y_train)),squared=False), mean_squared_error(np.expm1(y_test), np.expm1(dummy_model.predict(y_test)), squared=False)"
   ]
  },
  {
   "cell_type": "code",
   "execution_count": 57,
   "metadata": {},
   "outputs": [],
   "source": [
    "#by function\n",
    "def dummy_mod(X_train, x_test, y_train, y_test):\n",
    "    dummy_model = DummyRegressor()\n",
    "    dummy_model.fit(X_train, y_train)\n",
    "    resids = y_test - dummy_model.predict(X_test)\n",
    "    print(f'r2: train, test = {r2_score(np.expm1(y_train), np.expm1(dummy_model.predict(y_train))), r2_score(np.expm1(y_test), np.expm1(dummy_model.predict(y_test)))}')\n",
    "    print(f'rmse: baseline train, test = {mean_squared_error(np.expm1(y_train), np.expm1(dummy_model.predict(y_train)),squared=False), mean_squared_error(np.expm1(y_test), np.expm1(dummy_model.predict(y_test)), squared=False)}')   \n",
    "    return resids_hist(resids, title='Resids Distrib', x_label='Residuals', y_label='Frequency', size_var=18);"
   ]
  },
  {
   "cell_type": "code",
   "execution_count": 58,
   "metadata": {},
   "outputs": [
    {
     "name": "stdout",
     "output_type": "stream",
     "text": [
      "r2: train, test = (-0.03482180973470861, -0.023186984939064015)\n",
      "rmse: baseline train, test = (81144.1856029074, 78123.62221931462)\n"
     ]
    },
    {
     "data": {
      "text/plain": [
       "<Figure size 432x720 with 0 Axes>"
      ]
     },
     "metadata": {},
     "output_type": "display_data"
    },
    {
     "data": {
      "image/png": "[encoded data removed]",
      "text/plain": [
       "<Figure size 360x360 with 1 Axes>"
      ]
     },
     "metadata": {
      "needs_background": "light"
     },
     "output_type": "display_data"
    }
   ],
   "source": [
    "#test func\n",
    "dummy_mod(X_train, X_test, y_train, y_test)"
   ]
  },
  {
   "cell_type": "markdown",
   "metadata": {},
   "source": [
    "### Model A: instantiate, cross-val, fit, score"
   ]
  },
  {
   "cell_type": "code",
   "execution_count": 59,
   "metadata": {},
   "outputs": [
    {
     "name": "stdout",
     "output_type": "stream",
     "text": [
      "cross val score, mean: 0.887967\n",
      "RMSE train, test:(22499.86, 22376.71)\n"
     ]
    },
    {
     "data": {
      "text/plain": [
       "<Figure size 432x720 with 0 Axes>"
      ]
     },
     "metadata": {},
     "output_type": "display_data"
    },
    {
     "data": {
      "image/png": "[encoded data removed]",
      "text/plain": [
       "<Figure size 360x360 with 1 Axes>"
      ]
     },
     "metadata": {
      "needs_background": "light"
     },
     "output_type": "display_data"
    }
   ],
   "source": [
    "def linreg_fit_score(X_train, X_test, y_train, y_test):\n",
    "    lr = LinearRegression()\n",
    "    lr.fit(X_train, y_train)\n",
    "    y_pred=lr.predict(X_test)\n",
    "    resids = y_test - y_pred\n",
    "    print(f'cross val score, mean: {cross_val_score(lr, X_train, y_train, cv=5).mean().round(6)}')\n",
    "    print(f'RMSE train, test:{mean_squared_error(np.expm1(y_train), np.expm1(lr.predict(X_train)), squared=False).round(2), mean_squared_error(np.expm1(y_test), np.expm1(lr.predict(X_test)), squared=False).round(2)}')    \n",
    "    return resids_hist(resids,title='Resids Distribution', x_label='Residuals', y_label='Frequency',size_var=18);\n",
    "        \n",
    "#evaluating model a: training data only   \n",
    "linreg_fit_score(X_train, X_test, y_train, y_test)"
   ]
  },
  {
   "cell_type": "markdown",
   "metadata": {},
   "source": [
    "#### For submission: using Actual Test Set"
   ]
  },
  {
   "cell_type": "code",
   "execution_count": 60,
   "metadata": {},
   "outputs": [],
   "source": [
    "X_cols = [corrs_over3]\n",
    "y = training_dum['saleprice']"
   ]
  },
  {
   "cell_type": "code",
   "execution_count": 61,
   "metadata": {},
   "outputs": [
    {
     "data": {
      "text/plain": [
       "LinearRegression()"
      ]
     },
     "execution_count": 61,
     "metadata": {},
     "output_type": "execute_result"
    }
   ],
   "source": [
    "#for presentation:\n",
    "lr = LinearRegression()\n",
    "lr.fit(training_dum[corrs_over3],y)"
   ]
  },
  {
   "cell_type": "code",
   "execution_count": 62,
   "metadata": {},
   "outputs": [
    {
     "data": {
      "text/plain": [
       "array([ 5.24007725e-03,  2.31499819e-04,  1.73787117e-03,  1.54803231e-03,\n",
       "        4.24678419e-03,  7.51137884e-03,  9.87293423e-05,  1.87958885e-05,\n",
       "        1.94769187e-05,  5.86253015e-04,  1.91203505e-03,  7.61680981e-03,\n",
       "       -2.39555672e-05,  1.95760322e-02,  6.04051018e-04,  2.64382952e-03,\n",
       "        4.68228624e-03,  3.96120392e-02,  1.78227117e-05,  8.35833074e-05,\n",
       "        1.32168295e-02,  7.92965651e-04, -1.05811275e-02,  3.44780566e-03,\n",
       "        1.08548496e-01, -5.35266926e-03,  1.02973237e-01,  3.45550073e-04,\n",
       "        6.58458440e-02,  1.11616499e-02, -7.94537144e-02,  2.52041728e-05,\n",
       "        5.70294832e-05,  1.32960302e-03,  7.08114000e-04,  5.09959474e-02,\n",
       "        7.00077338e-03])"
      ]
     },
     "execution_count": 62,
     "metadata": {},
     "output_type": "execute_result"
    }
   ],
   "source": [
    "lr.coef_"
   ]
  },
  {
   "cell_type": "code",
   "execution_count": 63,
   "metadata": {},
   "outputs": [],
   "source": [
    "def linreg_submit(train_df, X_cols, y, test_df, version):\n",
    "    lr = LinearRegression()\n",
    "    lr.fit(train_df[X_cols], y)  #no tts splits here, that was just for local validation\n",
    "    test_preds = np.expm1(lr.predict(test_df[X_cols])) #exponentiate output\n",
    "    kaggle_submission = {\n",
    "        'Id' : test_df['id'],\n",
    "        'SalePrice' : test_preds\n",
    "    }\n",
    "    kaggle_submission = pd.DataFrame(kaggle_submission)\n",
    "    kaggle_submission.to_csv('./kaggle_submissions_all/'+version+'.csv',index=False)\n",
    "    return kaggle_submission.tail(10)\n"
   ]
  },
  {
   "cell_type": "code",
   "execution_count": 64,
   "metadata": {},
   "outputs": [],
   "source": [
    "#train_df = training_dum, test_df = testing_clean\n",
    "#linreg_submit(train_df = training_dum, X_cols = corrs_over3, y= training_dum['saleprice'], test_df = testing_clean, version = 'LRv1')\n",
    "# SUBMITTED 4/13/21. Kaggle Score 24426.01049"
   ]
  },
  {
   "cell_type": "markdown",
   "metadata": {},
   "source": [
    "# Model B: same as A, + log-transform all numerical vars with skew>.5\n",
    "---\n",
    "### Just like for [saleprice] -- np.log1p\n",
    "---\n",
    "##### Following steps from sources 3 and 4."
   ]
  },
  {
   "cell_type": "code",
   "execution_count": 65,
   "metadata": {},
   "outputs": [
    {
     "data": {
      "text/html": [
       "<div>\n",
       "<style scoped>\n",
       "    .dataframe tbody tr th:only-of-type {\n",
       "        vertical-align: middle;\n",
       "    }\n",
       "\n",
       "    .dataframe tbody tr th {\n",
       "        vertical-align: top;\n",
       "    }\n",
       "\n",
       "    .dataframe thead th {\n",
       "        text-align: right;\n",
       "    }\n",
       "</style>\n",
       "<table border=\"1\" class=\"dataframe\">\n",
       "  <thead>\n",
       "    <tr style=\"text-align: right;\">\n",
       "      <th></th>\n",
       "      <th>id</th>\n",
       "      <th>pid</th>\n",
       "      <th>ms_subclass</th>\n",
       "      <th>lot_frontage</th>\n",
       "      <th>lot_area</th>\n",
       "      <th>lot_shape</th>\n",
       "      <th>utilities</th>\n",
       "      <th>land_slope</th>\n",
       "      <th>overall_qual</th>\n",
       "      <th>overall_cond</th>\n",
       "      <th>...</th>\n",
       "      <th>sale_type_COD</th>\n",
       "      <th>sale_type_CWD</th>\n",
       "      <th>sale_type_Con</th>\n",
       "      <th>sale_type_ConLD</th>\n",
       "      <th>sale_type_ConLI</th>\n",
       "      <th>sale_type_ConLw</th>\n",
       "      <th>sale_type_New</th>\n",
       "      <th>sale_type_Oth</th>\n",
       "      <th>sale_type_VWD</th>\n",
       "      <th>sale_type_WD</th>\n",
       "    </tr>\n",
       "  </thead>\n",
       "  <tbody>\n",
       "    <tr>\n",
       "      <th>0</th>\n",
       "      <td>109</td>\n",
       "      <td>533352170</td>\n",
       "      <td>60</td>\n",
       "      <td>68.0</td>\n",
       "      <td>13517</td>\n",
       "      <td>9</td>\n",
       "      <td>16</td>\n",
       "      <td>9</td>\n",
       "      <td>36</td>\n",
       "      <td>64</td>\n",
       "      <td>...</td>\n",
       "      <td>0</td>\n",
       "      <td>0</td>\n",
       "      <td>0</td>\n",
       "      <td>0</td>\n",
       "      <td>0</td>\n",
       "      <td>0</td>\n",
       "      <td>0</td>\n",
       "      <td>0</td>\n",
       "      <td>0</td>\n",
       "      <td>1</td>\n",
       "    </tr>\n",
       "    <tr>\n",
       "      <th>1</th>\n",
       "      <td>544</td>\n",
       "      <td>531379050</td>\n",
       "      <td>60</td>\n",
       "      <td>43.0</td>\n",
       "      <td>11492</td>\n",
       "      <td>9</td>\n",
       "      <td>16</td>\n",
       "      <td>9</td>\n",
       "      <td>49</td>\n",
       "      <td>25</td>\n",
       "      <td>...</td>\n",
       "      <td>0</td>\n",
       "      <td>0</td>\n",
       "      <td>0</td>\n",
       "      <td>0</td>\n",
       "      <td>0</td>\n",
       "      <td>0</td>\n",
       "      <td>0</td>\n",
       "      <td>0</td>\n",
       "      <td>0</td>\n",
       "      <td>1</td>\n",
       "    </tr>\n",
       "    <tr>\n",
       "      <th>2</th>\n",
       "      <td>153</td>\n",
       "      <td>535304180</td>\n",
       "      <td>20</td>\n",
       "      <td>68.0</td>\n",
       "      <td>7922</td>\n",
       "      <td>16</td>\n",
       "      <td>16</td>\n",
       "      <td>9</td>\n",
       "      <td>25</td>\n",
       "      <td>49</td>\n",
       "      <td>...</td>\n",
       "      <td>0</td>\n",
       "      <td>0</td>\n",
       "      <td>0</td>\n",
       "      <td>0</td>\n",
       "      <td>0</td>\n",
       "      <td>0</td>\n",
       "      <td>0</td>\n",
       "      <td>0</td>\n",
       "      <td>0</td>\n",
       "      <td>1</td>\n",
       "    </tr>\n",
       "    <tr>\n",
       "      <th>3</th>\n",
       "      <td>318</td>\n",
       "      <td>916386060</td>\n",
       "      <td>60</td>\n",
       "      <td>73.0</td>\n",
       "      <td>9802</td>\n",
       "      <td>16</td>\n",
       "      <td>16</td>\n",
       "      <td>9</td>\n",
       "      <td>25</td>\n",
       "      <td>25</td>\n",
       "      <td>...</td>\n",
       "      <td>0</td>\n",
       "      <td>0</td>\n",
       "      <td>0</td>\n",
       "      <td>0</td>\n",
       "      <td>0</td>\n",
       "      <td>0</td>\n",
       "      <td>0</td>\n",
       "      <td>0</td>\n",
       "      <td>0</td>\n",
       "      <td>1</td>\n",
       "    </tr>\n",
       "    <tr>\n",
       "      <th>4</th>\n",
       "      <td>255</td>\n",
       "      <td>906425045</td>\n",
       "      <td>50</td>\n",
       "      <td>82.0</td>\n",
       "      <td>14235</td>\n",
       "      <td>9</td>\n",
       "      <td>16</td>\n",
       "      <td>9</td>\n",
       "      <td>36</td>\n",
       "      <td>64</td>\n",
       "      <td>...</td>\n",
       "      <td>0</td>\n",
       "      <td>0</td>\n",
       "      <td>0</td>\n",
       "      <td>0</td>\n",
       "      <td>0</td>\n",
       "      <td>0</td>\n",
       "      <td>0</td>\n",
       "      <td>0</td>\n",
       "      <td>0</td>\n",
       "      <td>1</td>\n",
       "    </tr>\n",
       "  </tbody>\n",
       "</table>\n",
       "<p>5 rows × 220 columns</p>\n",
       "</div>"
      ],
      "text/plain": [
       "    id        pid  ms_subclass  lot_frontage  lot_area  lot_shape  utilities  \\\n",
       "0  109  533352170           60          68.0     13517          9         16   \n",
       "1  544  531379050           60          43.0     11492          9         16   \n",
       "2  153  535304180           20          68.0      7922         16         16   \n",
       "3  318  916386060           60          73.0      9802         16         16   \n",
       "4  255  906425045           50          82.0     14235          9         16   \n",
       "\n",
       "   land_slope  overall_qual  overall_cond  ...  sale_type_COD  sale_type_CWD  \\\n",
       "0           9            36            64  ...              0              0   \n",
       "1           9            49            25  ...              0              0   \n",
       "2           9            25            49  ...              0              0   \n",
       "3           9            25            25  ...              0              0   \n",
       "4           9            36            64  ...              0              0   \n",
       "\n",
       "   sale_type_Con  sale_type_ConLD  sale_type_ConLI  sale_type_ConLw  \\\n",
       "0              0                0                0                0   \n",
       "1              0                0                0                0   \n",
       "2              0                0                0                0   \n",
       "3              0                0                0                0   \n",
       "4              0                0                0                0   \n",
       "\n",
       "   sale_type_New  sale_type_Oth  sale_type_VWD  sale_type_WD   \n",
       "0              0              0              0              1  \n",
       "1              0              0              0              1  \n",
       "2              0              0              0              1  \n",
       "3              0              0              0              1  \n",
       "4              0              0              0              1  \n",
       "\n",
       "[5 rows x 220 columns]"
      ]
     },
     "execution_count": 65,
     "metadata": {},
     "output_type": "execute_result"
    }
   ],
   "source": [
    "allofit_basic_clean.head() #combo training + test data, but no saleprice"
   ]
  },
  {
   "cell_type": "code",
   "execution_count": 66,
   "metadata": {},
   "outputs": [],
   "source": [
    "#isolate numerical vs categorical vars\n",
    "cats = allofit_basic_clean.select_dtypes(include= ['object']).columns\n",
    "nums = allofit_basic_clean.select_dtypes(exclude= ['object']).columns\n",
    "all_cats = allofit_basic_clean[cats]\n",
    "all_nums = allofit_basic_clean[nums]"
   ]
  },
  {
   "cell_type": "code",
   "execution_count": 67,
   "metadata": {},
   "outputs": [],
   "source": [
    "#find skewed numeric features.  Code from source 3, and 4\n",
    "#\"general rule of thumb, abv(skew)>.5 is 'moderately skewed'\" - source 3\n",
    "idskew = all_nums.loc[all_nums['is_train']==1].apply(lambda x: skew(x))  #on training data only!\n",
    "idskew = idskew[abs(idskew)>0.5] #filter to threshold (.5)\n",
    "idskew_cols = idskew.index  #col names of skewed training vars, now reincorporate testing data"
   ]
  },
  {
   "cell_type": "code",
   "execution_count": 68,
   "metadata": {},
   "outputs": [],
   "source": [
    "all_nums[idskew_cols] = np.log1p(all_nums[idskew_cols])"
   ]
  },
  {
   "cell_type": "code",
   "execution_count": 69,
   "metadata": {},
   "outputs": [],
   "source": [
    "#combine nums with categoricals, then split to test / train again\n",
    "interim = pd.concat([all_nums, all_cats], axis=1)\n",
    "y = training_dum['saleprice']\n",
    "training_logged = pd.concat([interim.loc[interim['is_train']==1],y], axis=1)\n",
    "testing_logged = interim.loc[interim['is_train'] != 1]"
   ]
  },
  {
   "cell_type": "markdown",
   "metadata": {},
   "source": [
    "##### Rerun correlation with new data; tts X and y"
   ]
  },
  {
   "cell_type": "code",
   "execution_count": 70,
   "metadata": {},
   "outputs": [],
   "source": [
    "#training_logged.corr()[['saleprice']].sort_values('saleprice', ascending=False).head()\n",
    "#pretty similar to untransformed list"
   ]
  },
  {
   "cell_type": "code",
   "execution_count": 71,
   "metadata": {},
   "outputs": [],
   "source": [
    "corrs_over3_log = training_logged.corr()['saleprice'].sort_values(ascending = False).loc[training_logged.corr()['saleprice']>.3].drop('saleprice').index"
   ]
  },
  {
   "cell_type": "code",
   "execution_count": 72,
   "metadata": {},
   "outputs": [],
   "source": [
    "#TTS for local validation\n",
    "X = training_logged[corrs_over3]\n",
    "y = training_logged['saleprice']\n",
    "X_train, X_test, y_train, y_test = train_test_split(X, y, test_size=.2, random_state=42)"
   ]
  },
  {
   "cell_type": "code",
   "execution_count": 73,
   "metadata": {
    "scrolled": true
   },
   "outputs": [
    {
     "name": "stdout",
     "output_type": "stream",
     "text": [
      "cross val score, mean: 0.891107\n",
      "RMSE train, test:(24253.72, 23421.55)\n"
     ]
    },
    {
     "data": {
      "text/plain": [
       "<Figure size 432x720 with 0 Axes>"
      ]
     },
     "metadata": {},
     "output_type": "display_data"
    },
    {
     "data": {
      "image/png": "[encoded data removed]",
      "text/plain": [
       "<Figure size 360x360 with 1 Axes>"
      ]
     },
     "metadata": {
      "needs_background": "light"
     },
     "output_type": "display_data"
    }
   ],
   "source": [
    "#evaluate model b, training data only\n",
    "linreg_fit_score(X_train, X_test, y_train, y_test)  #better RMSE test than A, worse train..."
   ]
  },
  {
   "cell_type": "markdown",
   "metadata": {},
   "source": [
    "# Model C: A + log-transform ONLY continuous vars with skew>.5.  Do not transform discrete numeric vars.\n",
    "\n",
    "##### Submit - superior to A and B"
   ]
  },
  {
   "cell_type": "code",
   "execution_count": 74,
   "metadata": {},
   "outputs": [],
   "source": [
    "#discretios = discrete numeric vars defined above in your stretching of the scale:\n",
    "#start with same process as model B\n",
    "cats = allofit_basic_clean.select_dtypes(include= ['object']).columns\n",
    "nums = allofit_basic_clean.select_dtypes(exclude= ['object']).columns\n",
    "all_cats = allofit_basic_clean[cats]\n",
    "all_nums = allofit_basic_clean[nums]"
   ]
  },
  {
   "cell_type": "code",
   "execution_count": 75,
   "metadata": {},
   "outputs": [],
   "source": [
    "idskew = all_nums.loc[all_nums['is_train']==1].apply(lambda x: skew(x))  #on training data only!\n",
    "idskew = idskew[abs(idskew)>0.5]"
   ]
  },
  {
   "cell_type": "code",
   "execution_count": 76,
   "metadata": {},
   "outputs": [],
   "source": [
    "#not all discretios are in list of skewed nums\n",
    "#which ones are?\n",
    "def drop_discretios(skewlist, discretes):\n",
    "    fixed=[]\n",
    "    for i in discretes:\n",
    "        if i in skewlist:\n",
    "            fixed.append(i)\n",
    "    return fixed"
   ]
  },
  {
   "cell_type": "code",
   "execution_count": 77,
   "metadata": {},
   "outputs": [],
   "source": [
    "tofilter = drop_discretios(idskew, discretios)"
   ]
  },
  {
   "cell_type": "code",
   "execution_count": 78,
   "metadata": {
    "scrolled": false
   },
   "outputs": [],
   "source": [
    "#remove discrete vars from list of skew-to-be-transformed\n",
    "idskew.drop(tofilter, inplace=True)\n",
    "idskew_cols = idskew.index  #col names of skewed training vars, now reincorporate testing data"
   ]
  },
  {
   "cell_type": "code",
   "execution_count": 79,
   "metadata": {},
   "outputs": [],
   "source": [
    "all_nums[idskew_cols] = np.log1p(all_nums[idskew_cols])"
   ]
  },
  {
   "cell_type": "code",
   "execution_count": 80,
   "metadata": {},
   "outputs": [],
   "source": [
    "#combine nums with categoricals, then split to test / train again\n",
    "interim = pd.concat([all_nums, all_cats], axis=1)\n",
    "y = training_dum['saleprice']\n",
    "training_contlog = pd.concat([interim.loc[interim['is_train']==1],y], axis=1)\n",
    "testing_contlog = interim.loc[interim['is_train'] != 1]"
   ]
  },
  {
   "cell_type": "code",
   "execution_count": 81,
   "metadata": {},
   "outputs": [],
   "source": [
    "#export for future reference (ie presentation)\n",
    "#have to do this wonky order because of index issues\n",
    "step1 = pd.concat([interim.loc[interim['is_train']==1], training['saleprice']], axis = 1)\n",
    "step2 = pd.concat([step1, interim.loc[interim['is_train']==0]],axis=0)\n",
    "step2.to_csv('./datasets/datasets_ignore/merged_logged_dummied.csv')"
   ]
  },
  {
   "cell_type": "code",
   "execution_count": 82,
   "metadata": {},
   "outputs": [
    {
     "data": {
      "text/html": [
       "<div>\n",
       "<style scoped>\n",
       "    .dataframe tbody tr th:only-of-type {\n",
       "        vertical-align: middle;\n",
       "    }\n",
       "\n",
       "    .dataframe tbody tr th {\n",
       "        vertical-align: top;\n",
       "    }\n",
       "\n",
       "    .dataframe thead th {\n",
       "        text-align: right;\n",
       "    }\n",
       "</style>\n",
       "<table border=\"1\" class=\"dataframe\">\n",
       "  <thead>\n",
       "    <tr style=\"text-align: right;\">\n",
       "      <th></th>\n",
       "      <th>id</th>\n",
       "      <th>pid</th>\n",
       "      <th>ms_subclass</th>\n",
       "      <th>lot_frontage</th>\n",
       "      <th>lot_area</th>\n",
       "      <th>lot_shape</th>\n",
       "      <th>utilities</th>\n",
       "      <th>land_slope</th>\n",
       "      <th>overall_qual</th>\n",
       "      <th>overall_cond</th>\n",
       "      <th>...</th>\n",
       "      <th>sale_type_CWD</th>\n",
       "      <th>sale_type_Con</th>\n",
       "      <th>sale_type_ConLD</th>\n",
       "      <th>sale_type_ConLI</th>\n",
       "      <th>sale_type_ConLw</th>\n",
       "      <th>sale_type_New</th>\n",
       "      <th>sale_type_Oth</th>\n",
       "      <th>sale_type_VWD</th>\n",
       "      <th>sale_type_WD</th>\n",
       "      <th>saleprice</th>\n",
       "    </tr>\n",
       "  </thead>\n",
       "  <tbody>\n",
       "    <tr>\n",
       "      <th>2046</th>\n",
       "      <td>1587</td>\n",
       "      <td>921126030</td>\n",
       "      <td>3.044522</td>\n",
       "      <td>4.382027</td>\n",
       "      <td>9.345745</td>\n",
       "      <td>9</td>\n",
       "      <td>16</td>\n",
       "      <td>9</td>\n",
       "      <td>64</td>\n",
       "      <td>25</td>\n",
       "      <td>...</td>\n",
       "      <td>0.0</td>\n",
       "      <td>0.0</td>\n",
       "      <td>0.0</td>\n",
       "      <td>0.0</td>\n",
       "      <td>0.0</td>\n",
       "      <td>0.0</td>\n",
       "      <td>0.0</td>\n",
       "      <td>0</td>\n",
       "      <td>0.693147</td>\n",
       "      <td>298751</td>\n",
       "    </tr>\n",
       "    <tr>\n",
       "      <th>2047</th>\n",
       "      <td>785</td>\n",
       "      <td>905377130</td>\n",
       "      <td>3.433987</td>\n",
       "      <td>4.234107</td>\n",
       "      <td>9.420844</td>\n",
       "      <td>9</td>\n",
       "      <td>16</td>\n",
       "      <td>9</td>\n",
       "      <td>16</td>\n",
       "      <td>25</td>\n",
       "      <td>...</td>\n",
       "      <td>0.0</td>\n",
       "      <td>0.0</td>\n",
       "      <td>0.0</td>\n",
       "      <td>0.0</td>\n",
       "      <td>0.0</td>\n",
       "      <td>0.0</td>\n",
       "      <td>0.0</td>\n",
       "      <td>0</td>\n",
       "      <td>0.693147</td>\n",
       "      <td>82500</td>\n",
       "    </tr>\n",
       "    <tr>\n",
       "      <th>2048</th>\n",
       "      <td>916</td>\n",
       "      <td>909253010</td>\n",
       "      <td>3.931826</td>\n",
       "      <td>4.060443</td>\n",
       "      <td>8.930494</td>\n",
       "      <td>16</td>\n",
       "      <td>16</td>\n",
       "      <td>9</td>\n",
       "      <td>36</td>\n",
       "      <td>36</td>\n",
       "      <td>...</td>\n",
       "      <td>0.0</td>\n",
       "      <td>0.0</td>\n",
       "      <td>0.0</td>\n",
       "      <td>0.0</td>\n",
       "      <td>0.0</td>\n",
       "      <td>0.0</td>\n",
       "      <td>0.0</td>\n",
       "      <td>0</td>\n",
       "      <td>0.693147</td>\n",
       "      <td>177000</td>\n",
       "    </tr>\n",
       "    <tr>\n",
       "      <th>2049</th>\n",
       "      <td>639</td>\n",
       "      <td>535179160</td>\n",
       "      <td>3.044522</td>\n",
       "      <td>4.394449</td>\n",
       "      <td>9.249657</td>\n",
       "      <td>16</td>\n",
       "      <td>16</td>\n",
       "      <td>9</td>\n",
       "      <td>16</td>\n",
       "      <td>25</td>\n",
       "      <td>...</td>\n",
       "      <td>0.0</td>\n",
       "      <td>0.0</td>\n",
       "      <td>0.0</td>\n",
       "      <td>0.0</td>\n",
       "      <td>0.0</td>\n",
       "      <td>0.0</td>\n",
       "      <td>0.0</td>\n",
       "      <td>0</td>\n",
       "      <td>0.693147</td>\n",
       "      <td>144000</td>\n",
       "    </tr>\n",
       "    <tr>\n",
       "      <th>2050</th>\n",
       "      <td>10</td>\n",
       "      <td>527162130</td>\n",
       "      <td>4.110874</td>\n",
       "      <td>4.110874</td>\n",
       "      <td>8.922792</td>\n",
       "      <td>16</td>\n",
       "      <td>16</td>\n",
       "      <td>9</td>\n",
       "      <td>49</td>\n",
       "      <td>25</td>\n",
       "      <td>...</td>\n",
       "      <td>0.0</td>\n",
       "      <td>0.0</td>\n",
       "      <td>0.0</td>\n",
       "      <td>0.0</td>\n",
       "      <td>0.0</td>\n",
       "      <td>0.0</td>\n",
       "      <td>0.0</td>\n",
       "      <td>0</td>\n",
       "      <td>0.693147</td>\n",
       "      <td>189000</td>\n",
       "    </tr>\n",
       "  </tbody>\n",
       "</table>\n",
       "<p>5 rows × 221 columns</p>\n",
       "</div>"
      ],
      "text/plain": [
       "        id        pid  ms_subclass  lot_frontage  lot_area  lot_shape  \\\n",
       "2046  1587  921126030     3.044522      4.382027  9.345745          9   \n",
       "2047   785  905377130     3.433987      4.234107  9.420844          9   \n",
       "2048   916  909253010     3.931826      4.060443  8.930494         16   \n",
       "2049   639  535179160     3.044522      4.394449  9.249657         16   \n",
       "2050    10  527162130     4.110874      4.110874  8.922792         16   \n",
       "\n",
       "      utilities  land_slope  overall_qual  overall_cond  ...  sale_type_CWD  \\\n",
       "2046         16           9            64            25  ...            0.0   \n",
       "2047         16           9            16            25  ...            0.0   \n",
       "2048         16           9            36            36  ...            0.0   \n",
       "2049         16           9            16            25  ...            0.0   \n",
       "2050         16           9            49            25  ...            0.0   \n",
       "\n",
       "      sale_type_Con  sale_type_ConLD  sale_type_ConLI  sale_type_ConLw  \\\n",
       "2046            0.0              0.0              0.0              0.0   \n",
       "2047            0.0              0.0              0.0              0.0   \n",
       "2048            0.0              0.0              0.0              0.0   \n",
       "2049            0.0              0.0              0.0              0.0   \n",
       "2050            0.0              0.0              0.0              0.0   \n",
       "\n",
       "      sale_type_New  sale_type_Oth  sale_type_VWD  sale_type_WD   saleprice  \n",
       "2046            0.0            0.0              0       0.693147     298751  \n",
       "2047            0.0            0.0              0       0.693147      82500  \n",
       "2048            0.0            0.0              0       0.693147     177000  \n",
       "2049            0.0            0.0              0       0.693147     144000  \n",
       "2050            0.0            0.0              0       0.693147     189000  \n",
       "\n",
       "[5 rows x 221 columns]"
      ]
     },
     "execution_count": 82,
     "metadata": {},
     "output_type": "execute_result"
    }
   ],
   "source": [
    "step1.tail()"
   ]
  },
  {
   "cell_type": "markdown",
   "metadata": {},
   "source": [
    "##### Rerun corr, tts"
   ]
  },
  {
   "cell_type": "code",
   "execution_count": 83,
   "metadata": {},
   "outputs": [],
   "source": [
    "training_contlog.corr()[['saleprice']].sort_values('saleprice', ascending=False).head()\n",
    "#still pretty similar to untransformed list\n",
    "corrs_over3_contlog = training_contlog.corr()['saleprice'].sort_values(ascending = False).loc[training_contlog.corr()['saleprice']>.3].drop('saleprice').index"
   ]
  },
  {
   "cell_type": "code",
   "execution_count": 84,
   "metadata": {},
   "outputs": [],
   "source": [
    "#TTS for local validation\n",
    "X = training_contlog[corrs_over3_contlog]\n",
    "y = training_contlog['saleprice']\n",
    "X_train, X_test, y_train, y_test = train_test_split(X, y, test_size=.2, random_state=42)"
   ]
  },
  {
   "cell_type": "code",
   "execution_count": 85,
   "metadata": {},
   "outputs": [
    {
     "name": "stdout",
     "output_type": "stream",
     "text": [
      "cross val score, mean: 0.893182\n",
      "RMSE train, test:(22744.75, 21349.45)\n"
     ]
    },
    {
     "data": {
      "text/plain": [
       "<Figure size 432x720 with 0 Axes>"
      ]
     },
     "metadata": {},
     "output_type": "display_data"
    },
    {
     "data": {
      "image/png": "[encoded data removed]",
      "text/plain": [
       "<Figure size 360x360 with 1 Axes>"
      ]
     },
     "metadata": {
      "needs_background": "light"
     },
     "output_type": "display_data"
    }
   ],
   "source": [
    "linreg_fit_score(X_train, X_test, y_train, y_test)  #RMSE train same as A, test better..."
   ]
  },
  {
   "cell_type": "code",
   "execution_count": 86,
   "metadata": {},
   "outputs": [],
   "source": [
    "#### For submission: using Actual Test Set\n",
    "X_cols = [corrs_over3_contlog]\n",
    "y = training_dum['saleprice']"
   ]
  },
  {
   "cell_type": "code",
   "execution_count": 87,
   "metadata": {},
   "outputs": [],
   "source": [
    "#linreg_submit(train_df = training_contlog, X_cols = corrs_over3_contlog, y= training_dum['saleprice'], test_df = testing_contlog, version = 'LRv2')\n",
    "# SUBMITTED 4/13/21. Kaggle Score 23339.00799"
   ]
  },
  {
   "cell_type": "markdown",
   "metadata": {},
   "source": [
    "### Model D: Model C but only top 10 most correlated features\n",
    "Will parsimony improve things?  \n",
    "Nope, worse. "
   ]
  },
  {
   "cell_type": "code",
   "execution_count": 88,
   "metadata": {},
   "outputs": [],
   "source": [
    "training_contlog.corr()[['saleprice']].sort_values('saleprice', ascending=False).head(11)\n",
    "corrs10_contlog = training_contlog.corr()['saleprice'].sort_values(ascending=False)[:11].drop('saleprice').index"
   ]
  },
  {
   "cell_type": "code",
   "execution_count": 89,
   "metadata": {},
   "outputs": [
    {
     "name": "stdout",
     "output_type": "stream",
     "text": [
      "cross val score, mean: 0.853537\n",
      "RMSE train, test:(26630.82, 26321.69)\n"
     ]
    },
    {
     "data": {
      "text/plain": [
       "<Figure size 432x720 with 0 Axes>"
      ]
     },
     "metadata": {},
     "output_type": "display_data"
    },
    {
     "data": {
      "image/png": "[encoded data removed]",
      "text/plain": [
       "<Figure size 360x360 with 1 Axes>"
      ]
     },
     "metadata": {
      "needs_background": "light"
     },
     "output_type": "display_data"
    }
   ],
   "source": [
    "X = training_contlog[corrs10_contlog]\n",
    "y = training_contlog['saleprice']\n",
    "X_train, X_test, y_train, y_test = train_test_split(X, y, test_size=.2, random_state=42)\n",
    "linreg_fit_score(X_train, X_test, y_train, y_test)"
   ]
  },
  {
   "cell_type": "markdown",
   "metadata": {},
   "source": [
    "# Ridge\n",
    "Nothing fancy - no polynomials or feature combining/creation to address collinearity and interaction.  Just the above, fit into ridge regularization method working through steps from source 3 and class."
   ]
  },
  {
   "cell_type": "code",
   "execution_count": 90,
   "metadata": {},
   "outputs": [],
   "source": [
    "#exponentiate within MSE call to undo log transform of y\n",
    "def model_rmse(model, X_train, X_test, y_train, y_test):\n",
    "    train_rmse = mean_squared_error(np.expm1(y_train), np.expm1(model.predict(X_train)), squared=False).round(2)\n",
    "    test_rmse = mean_squared_error(np.expm1(y_test), np.expm1(model.predict(X_test)), squared=False).round(2)\n",
    "    print(f'train RMSE = {train_rmse}')\n",
    "    print(f'test RMSE = {test_rmse}')"
   ]
  },
  {
   "cell_type": "code",
   "execution_count": 91,
   "metadata": {},
   "outputs": [],
   "source": [
    "# #from superior of above models: Model C\n",
    "# X = training_contlog[corrs_over3_contlog]\n",
    "# y = training_contlog['saleprice']\n",
    "# X_train, X_test, y_train, y_test = train_test_split(X, y, test_size=.2, random_state=42)"
   ]
  },
  {
   "cell_type": "markdown",
   "metadata": {},
   "source": [
    "Ran Ridge regularization first using features from the above non-regularized linear models.  These yielded RMSE's Very close to the most succesful lr model (LR model C outperformed the Lasso submission on Kaggle).  Below I try without limiting features to the highly correlated ones I had filtered out earlier.  Maybe letting Ridge/Lasso do their thing on all the features, and reducing coefficients as it deems fit, will improve upon RMSE.\n",
    "\n",
    "##### There it is.  That was much more impactful than any iterations so far.  (*RMSE from 23k --> 18.2k.). \n",
    "##### (*EDIT: Kaggle score actually 21k. Sigh)."
   ]
  },
  {
   "cell_type": "code",
   "execution_count": 92,
   "metadata": {},
   "outputs": [],
   "source": [
    "X = training_contlog[training_contlog.columns.drop('saleprice')]\n",
    "y = training_contlog['saleprice']\n",
    "X_train, X_test, y_train, y_test = train_test_split(X, y, test_size=.2, random_state=42)\n",
    "ss = StandardScaler()\n",
    "Z_train = ss.fit_transform(X_train)\n",
    "Z_test = ss.transform(X_test)"
   ]
  },
  {
   "cell_type": "code",
   "execution_count": 93,
   "metadata": {
    "scrolled": true
   },
   "outputs": [
    {
     "data": {
      "text/plain": [
       "335.1602650938841"
      ]
     },
     "execution_count": 93,
     "metadata": {},
     "output_type": "execute_result"
    }
   ],
   "source": [
    "r_alphas = np.logspace(0,5,100)\n",
    "ridge = RidgeCV(alphas=r_alphas)\n",
    "ridge.fit(Z_train, y_train)\n",
    "alpha1=ridge.alpha_\n",
    "alpha1"
   ]
  },
  {
   "cell_type": "code",
   "execution_count": 94,
   "metadata": {
    "scrolled": true
   },
   "outputs": [
    {
     "data": {
      "text/plain": [
       "291.50530628251755"
      ]
     },
     "execution_count": 94,
     "metadata": {},
     "output_type": "execute_result"
    }
   ],
   "source": [
    "#try again for more precision with alphas centered around the above alpha output\n",
    "# ^^ source 3\n",
    "ridge = RidgeCV(alphas = np.logspace(2,3,100), cv=10)\n",
    "ridge.fit(Z_train, y_train)\n",
    "alpha2 = ridge.alpha_\n",
    "alpha2"
   ]
  },
  {
   "cell_type": "code",
   "execution_count": null,
   "metadata": {},
   "outputs": [],
   "source": [
    "#ENHANCE\n",
    "ridge = RidgeCV(alphas = np.linspace(100,400, 1000), cv=5)\n",
    "ridge.fit(Z_train, y_train)\n",
    "ridge.alpha_"
   ]
  },
  {
   "cell_type": "code",
   "execution_count": null,
   "metadata": {},
   "outputs": [],
   "source": [
    "model_rmse(ridge, Z_train, Z_test, y_train, y_test) #dang, kaggle score 21.3k"
   ]
  },
  {
   "cell_type": "code",
   "execution_count": null,
   "metadata": {},
   "outputs": [],
   "source": [
    "#visualization from source 3\n",
    "y_train_rdg = ridge.predict(Z_train)\n",
    "resids_train = y_train_rdg - y_train\n",
    "y_test_rdg = ridge.predict(Z_test)\n",
    "resids_test = y_test_rdg - y_test\n",
    "plt.scatter(y_train_rdg, resids_train, color='blue', label='training split')\n",
    "plt.scatter(y_test_rdg, resids_test, color='orange', label='testing split')\n",
    "plt.title('Residuals of linreg with ridge regularization')\n",
    "plt.xlabel('predicted values')\n",
    "plt.ylabel('residuals')\n",
    "plt.legend(loc='upper right')"
   ]
  },
  {
   "cell_type": "code",
   "execution_count": null,
   "metadata": {
    "scrolled": false
   },
   "outputs": [],
   "source": [
    "#important coefficients - also source 3.  Would not have thought of barh without seeing his.\n",
    "coefs = pd.Series(ridge.coef_, index=X_train.columns)\n",
    "imp_coefs = pd.concat([coefs.sort_values().head(10), coefs.sort_values().tail(10)])\n",
    "plt.figure(figsize=(8,6))\n",
    "imp_coefs.plot(kind='barh')\n",
    "plt.yticks(ticks = list(range(0,20,1)), labels=[convert_snake_case(i) for i in imp_coefs.index])\n",
    "plt.title(\"Coefficients in Ridge Model\", size=16);"
   ]
  },
  {
   "cell_type": "markdown",
   "metadata": {},
   "source": [
    "#### For Submission:"
   ]
  },
  {
   "cell_type": "code",
   "execution_count": null,
   "metadata": {},
   "outputs": [],
   "source": [
    "X = training_contlog[training_contlog.columns.drop('saleprice')]  #training\n",
    "y = training_contlog['saleprice']\n",
    "test_real = testing_contlog\n",
    "ss = StandardScaler()\n",
    "Z = ss.fit_transform(X)\n",
    "Z_test = ss.transform(test_real[test_real.columns])"
   ]
  },
  {
   "cell_type": "code",
   "execution_count": null,
   "metadata": {},
   "outputs": [],
   "source": [
    "#three cycles of np.logspace/linspace to hone in on alpha 285\n",
    "ridge = RidgeCV(alphas = np.linspace(200,400,100), cv=10)\n",
    "ridge.fit(Z, y)\n",
    "ridge.alpha_"
   ]
  },
  {
   "cell_type": "code",
   "execution_count": null,
   "metadata": {},
   "outputs": [],
   "source": [
    "def regularized_submit(model, X, y, test_df, version):\n",
    "    ss = StandardScaler()\n",
    "    Z = ss.fit_transform(X)\n",
    "    Z_test = ss.transform(test_df[test_df.columns])\n",
    "    test_preds = np.expm1(model.predict(Z_test))\n",
    "    kaggle_submission = {\n",
    "    'Id' : test_df['id'],\n",
    "    'SalePrice' : test_preds\n",
    "    }\n",
    "    kaggle_submission = pd.DataFrame(kaggle_submission)\n",
    "    kaggle_submission.to_csv('./kaggle_submissions_all/'+version+'.csv',index=False)\n",
    "    return kaggle_submission.tail(5)"
   ]
  },
  {
   "cell_type": "code",
   "execution_count": null,
   "metadata": {},
   "outputs": [],
   "source": [
    "#regularized_submit(ridge, X, y, testing_contlog, 'Ridge1')\n",
    "# submitted 4/14/21 Kaggle Score 23.1k -- not in line with RMSE 18.2k in tts"
   ]
  },
  {
   "cell_type": "markdown",
   "metadata": {},
   "source": [
    "### Ridge 2:\n",
    "The only difference in this model is the scoring parameter has been set to RMSE.  Does it make a difference?  Yes, alpha is different on first round (284->263).  Proceed."
   ]
  },
  {
   "cell_type": "code",
   "execution_count": null,
   "metadata": {},
   "outputs": [],
   "source": [
    "X = training_contlog[training_contlog.columns.drop('saleprice')]  #training\n",
    "y = training_contlog['saleprice']\n",
    "test_real = testing_contlog\n",
    "ss = StandardScaler()\n",
    "Z = ss.fit_transform(X)\n",
    "Z_test = ss.transform(test_real[test_real.columns])"
   ]
  },
  {
   "cell_type": "code",
   "execution_count": null,
   "metadata": {},
   "outputs": [],
   "source": [
    "#several cycles changing np.logspace/linspace range\n",
    "ridge = RidgeCV(alphas = np.linspace(200,300,100), scoring='neg_mean_squared_error',cv=10)\n",
    "ridge.fit(Z, y)\n",
    "ridge.alpha_"
   ]
  },
  {
   "cell_type": "code",
   "execution_count": null,
   "metadata": {},
   "outputs": [],
   "source": [
    "#regularized_submit(ridge, X, y, testing_contlog, 'Ridge2')\n",
    "#kaggle score 21225.32930 -> outperformed Ridge1, Lasso still superior"
   ]
  },
  {
   "cell_type": "markdown",
   "metadata": {},
   "source": [
    "# LASSO\n",
    "The Ridge regularization did much better when given the whole dataframe than when I gave it just the correlation-filtered features used in un-regularized linreg.  However, that was in local RMSE, not Kaggle, so I might be duffing it somewhere.  Regardless, starting with X = all features and adjusting from there if time; also, there's no time.\n",
    "\n",
    "* Kaggle RMSE higher for Lasso and Ridge models by significant amount (or at least a frustrating amount).  You know from R2 scores that model is overfit, so pare it down in next version."
   ]
  },
  {
   "cell_type": "code",
   "execution_count": null,
   "metadata": {},
   "outputs": [],
   "source": [
    "#kaggle_submission.to_csv('./kaggle_submissions_all/Lasso_v1.csv',index=False)\n",
    "#submitted 4/13/21  Kaggle score = 23507.89650   #not better than lr!\n",
    "#fit with wrong scaling and expm1 in v1."
   ]
  },
  {
   "cell_type": "code",
   "execution_count": null,
   "metadata": {},
   "outputs": [],
   "source": [
    "#X cols from superior of above models: Model C\n",
    "X = training_contlog[training_contlog.columns.drop('saleprice')]\n",
    "y = training_contlog['saleprice']\n",
    "X_train, X_test, y_train, y_test = train_test_split(X, y, test_size=.3, random_state=42)"
   ]
  },
  {
   "cell_type": "code",
   "execution_count": null,
   "metadata": {},
   "outputs": [],
   "source": [
    "ss = StandardScaler()   \n",
    "Z_train = ss.fit_transform(X_train)\n",
    "Z_test = ss.transform(X_test)"
   ]
  },
  {
   "cell_type": "code",
   "execution_count": null,
   "metadata": {},
   "outputs": [],
   "source": [
    "#refine lasso_alphas through several iterations\n",
    "lasso_alphas = np.logspace(-3,-.5,100)\n",
    "lasso = LassoCV(alphas=lasso_alphas, cv=5) #cv over list of lasso alphas\n",
    "lasso.fit(Z_train, y_train)\n",
    "lasso.alpha_"
   ]
  },
  {
   "cell_type": "code",
   "execution_count": null,
   "metadata": {},
   "outputs": [],
   "source": [
    "print(f'alpha = {lasso.alpha_}') #optimal alpha (aka lambda)\n",
    "print(f'trian, test R2:{lasso.score(Z_train, y_train), lasso.score(Z_test, y_test)}')  #R2 for training & test"
   ]
  },
  {
   "cell_type": "code",
   "execution_count": null,
   "metadata": {},
   "outputs": [],
   "source": [
    "#rmse with features of Model C was 22k-ish.  Vast improvement by plugging in all features.\n",
    "model_rmse(lasso, Z_train, Z_test, y_train, y_test)"
   ]
  },
  {
   "cell_type": "code",
   "execution_count": null,
   "metadata": {},
   "outputs": [],
   "source": [
    "#regularized_submit(lasso, X, y, testing_contlog, 'Lasso_v2')\n",
    "# Submitted 4/14/21. Kaggle score = 21052.45544"
   ]
  },
  {
   "cell_type": "code",
   "execution_count": null,
   "metadata": {},
   "outputs": [],
   "source": [
    "#plotting bc foresee using in presentation: ala source 3\n",
    "coefs_lasso = pd.Series(lasso.coef_, index=X_train.columns)\n",
    "imp_coefs = pd.concat([coefs_lasso.sort_values().head(10), coefs_lasso.sort_values().tail(10)])\n",
    "plt.figure(figsize=(8,6))\n",
    "imp_coefs.plot(kind='barh')\n",
    "plt.yticks(ticks = list(range(0,20,1)), labels=[convert_snake_case(i) for i in imp_coefs.index])\n",
    "plt.title(\"Coefficients in Lasso Model\", size=16);"
   ]
  },
  {
   "cell_type": "code",
   "execution_count": null,
   "metadata": {},
   "outputs": [],
   "source": [
    "# #guiding presentation research:\n",
    "# lasso_coefs = coefs_lasso.sort_values(ascending=False)\n",
    "# lasso_coefs.to_csv('./datasets/datasets_ignore/lasso_coefs.csv')"
   ]
  },
  {
   "cell_type": "markdown",
   "metadata": {},
   "source": [
    "### Lasso v3:\n",
    "In this step, I refine the above attempt at Lasso by changing gears entirely to work on a presentation for a non-Kaggle-related problem statement that I have definitely have under control."
   ]
  },
  {
   "cell_type": "markdown",
   "metadata": {},
   "source": [
    "# Conclusions\n",
    "The Lasso and Ridge Regularization models work best when fed all features and allowed to cull (reduce coefficients) at their discretion.  My dummy model performed absolutely abysmally by r2 and RMSE metrics, making it not hard to improve upon.\n",
    "\n",
    "There are many other approaches to cleaning, binning, and organizing that I am curious to try: I numified many categorical variables, but perhaps leaving them as objects with new broader groupings/definitions could have parsed out some more interpretable relationships.  For this portion of the project, interpretability is not a priority so I just kept blindly tinkering until RMSE scores crept down.  Honestly, my first go with regular linreg was one of my best scores, proof enough that it was due to luck, not mastery.\n",
    "\n",
    "I would like to feel more comfortable with this process instead of totally feeling around in the dark.  Kaggle kernels were key for seeing how to approach this kind of data mess.  Now it is time to try more independently instead of frankensteining 5 unrelated sources together."
   ]
  }
 ],
 "metadata": {
  "kernelspec": {
   "display_name": "Python 3",
   "language": "python",
   "name": "python3"
  },
  "language_info": {
   "codemirror_mode": {
    "name": "ipython",
    "version": 3
   },
   "file_extension": ".py",
   "mimetype": "text/x-python",
   "name": "python",
   "nbconvert_exporter": "python",
   "pygments_lexer": "ipython3",
   "version": "3.8.5"
  }
 },
 "nbformat": 4,
 "nbformat_minor": 4
}
